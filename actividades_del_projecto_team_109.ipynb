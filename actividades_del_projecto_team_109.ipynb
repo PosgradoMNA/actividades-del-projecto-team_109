{
  "nbformat": 4,
  "nbformat_minor": 0,
  "metadata": {
    "colab": {
      "provenance": [],
      "authorship_tag": "ABX9TyOFvoPXpP91Ol1953PH8tlP",
      "include_colab_link": true
    },
    "kernelspec": {
      "name": "python3",
      "display_name": "Python 3"
    },
    "language_info": {
      "name": "python"
    }
  },
  "cells": [
    {
      "cell_type": "markdown",
      "metadata": {
        "id": "view-in-github",
        "colab_type": "text"
      },
      "source": [
        "<a href=\"https://colab.research.google.com/github/PosgradoMNA/actividades-del-projecto-team_109/blob/main/actividades_del_projecto_team_109.ipynb\" target=\"_parent\"><img src=\"https://colab.research.google.com/assets/colab-badge.svg\" alt=\"Open In Colab\"/></a>"
      ]
    },
    {
      "cell_type": "markdown",
      "source": [
        "## José Antonio Mendoza Castro - A01794067\n",
        "## Miguel Angel Aguilera Rodríguez - A00642541\n",
        "\n",
        "### **Encuesta Nacional sobre Disponibilidad y Uso de Tecnologías de la Información en los Hogares (ENDUTIH) 2021**"
      ],
      "metadata": {
        "id": "FqJ_RTfOyDbh"
      }
    },
    {
      "cell_type": "code",
      "source": [
        "import pandas as pd\n",
        "import numpy as np\n",
        "import matplotlib.pyplot as plt\n",
        "%matplotlib inline"
      ],
      "metadata": {
        "id": "k1IiUWrPyyI8"
      },
      "execution_count": 1,
      "outputs": []
    },
    {
      "cell_type": "markdown",
      "source": [
        "### Conjunto de datos"
      ],
      "metadata": {
        "id": "01IOfVGk1wfz"
      }
    },
    {
      "cell_type": "code",
      "source": [
        "df_vivienda = pd.read_csv('tr_endutih_hogar_anual_2021.csv')\n",
        "df_hogar = pd.read_csv('tr_endutih_hogar_anual_2021.csv')\n",
        "df_residente = pd.read_csv('tr_endutih_hogar_anual_2021.csv')\n",
        "df_usuario = pd.read_csv('tr_endutih_hogar_anual_2021.csv')\n",
        "df_usuario2 = pd.read_csv('tr_endutih_hogar_anual_2021.csv')"
      ],
      "metadata": {
        "id": "KP4lpeTq1so6"
      },
      "execution_count": null,
      "outputs": []
    },
    {
      "cell_type": "code",
      "source": [],
      "metadata": {
        "id": "1HlrKktX4PVC"
      },
      "execution_count": null,
      "outputs": []
    },
    {
      "cell_type": "code",
      "source": [],
      "metadata": {
        "id": "Mjbg0Z9G4PbZ"
      },
      "execution_count": null,
      "outputs": []
    },
    {
      "cell_type": "code",
      "source": [],
      "metadata": {
        "id": "-A7VQWsC4Pl7"
      },
      "execution_count": null,
      "outputs": []
    },
    {
      "cell_type": "code",
      "source": [],
      "metadata": {
        "id": "gWZg7eSu4PxH"
      },
      "execution_count": null,
      "outputs": []
    },
    {
      "cell_type": "code",
      "source": [],
      "metadata": {
        "id": "Z5ELxHU84P2l"
      },
      "execution_count": null,
      "outputs": []
    },
    {
      "cell_type": "markdown",
      "source": [
        "## Nombre de la base de datos: ENDUTIH"
      ],
      "metadata": {
        "id": "KB8hF7SdyxP2"
      }
    },
    {
      "cell_type": "code",
      "source": [],
      "metadata": {
        "id": "rIRPvsKWyvt7"
      },
      "execution_count": null,
      "outputs": []
    },
    {
      "cell_type": "code",
      "source": [
        "df = pd"
      ],
      "metadata": {
        "id": "k2bc3EvEye1M"
      },
      "execution_count": null,
      "outputs": []
    }
  ]
}