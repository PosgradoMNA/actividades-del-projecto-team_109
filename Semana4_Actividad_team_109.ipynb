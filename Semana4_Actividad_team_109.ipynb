{
  "nbformat": 4,
  "nbformat_minor": 0,
  "metadata": {
    "colab": {
      "provenance": [],
      "authorship_tag": "ABX9TyPs7veub4pwuq3V5Xe9fqXO",
      "include_colab_link": true
    },
    "kernelspec": {
      "name": "python3",
      "display_name": "Python 3"
    },
    "language_info": {
      "name": "python"
    }
  },
  "cells": [
    {
      "cell_type": "markdown",
      "metadata": {
        "id": "view-in-github",
        "colab_type": "text"
      },
      "source": [
        "<a href=\"https://colab.research.google.com/github/PosgradoMNA/actividades-del-projecto-team_109/blob/main/Semana4_Actividad_team_109.ipynb\" target=\"_parent\"><img src=\"https://colab.research.google.com/assets/colab-badge.svg\" alt=\"Open In Colab\"/></a>"
      ]
    },
    {
      "cell_type": "markdown",
      "source": [
        "## **Actividad Semana 4**\n",
        "\n",
        "## A01794067 - José Antonio Mendoza Castro\n",
        "## A00642541 - Miguel Angel Aguilera Rodríguez\n",
        "\n",
        "### **Ciencia y analítica de datos**\n",
        "\n",
        "### **Prof. Jobish Vallikavungal D.**\n",
        "\n",
        "### 2022-10-11\n"
      ],
      "metadata": {
        "id": "hnbSNk3FFi_E"
      }
    },
    {
      "cell_type": "code",
      "source": [
        "import pandas as pd\n",
        "import numpy as np\n",
        "import matplotlib.pyplot as plt\n",
        "%matplotlib inline"
      ],
      "metadata": {
        "id": "FypUXYjiFlmR"
      },
      "execution_count": 1,
      "outputs": []
    },
    {
      "cell_type": "code",
      "source": [
        "from sklearn.decomposition import PCA"
      ],
      "metadata": {
        "id": "4hmrkB-W65Df"
      },
      "execution_count": 2,
      "outputs": []
    },
    {
      "cell_type": "code",
      "source": [
        "from sklearn.preprocessing import scale"
      ],
      "metadata": {
        "id": "ys8hy2r2zlM5"
      },
      "execution_count": 3,
      "outputs": []
    },
    {
      "cell_type": "code",
      "source": [
        "pd.set_option('display.max_columns', None)\n",
        "pd.set_option('display.max_rows', None)"
      ],
      "metadata": {
        "id": "gfEthworUr6W"
      },
      "execution_count": 4,
      "outputs": []
    },
    {
      "cell_type": "markdown",
      "source": [
        "### **Parte 1: Ejercicio guiado**"
      ],
      "metadata": {
        "id": "2Fixs1ZVt38P"
      }
    },
    {
      "cell_type": "markdown",
      "source": [
        "### Paso 1: Determine el número mínimo de componentes principales que representan la mayor parte de la variación en sus datos\n",
        "\n",
        "*   Utilice la proporción acumulada de la varianza que explican los componentes para determinar la cantidad de varianza que explican los componentes principales.\n",
        "\n"
      ],
      "metadata": {
        "id": "bm5FENthFVu0"
      }
    },
    {
      "cell_type": "code",
      "source": [
        "df = pd.read_csv('default of credit card clients.csv')"
      ],
      "metadata": {
        "id": "fO0xYK9ot4YI"
      },
      "execution_count": 5,
      "outputs": []
    },
    {
      "cell_type": "markdown",
      "source": [
        "#### De acuerdo con la información de atributos:\n",
        "\n",
        "#### **Variables categóricas**: X2 (género), X3 (educación), X4 (estatus marital), X6-X11 (historial de pago)\n",
        "\n",
        "#### **Variables numéricas**: X1 (cantidad de crédito otorgado), X5 (edad), X12-X17 (montos en el estado de cuenta), X18-X23 (montos pagados)\n",
        "\n",
        "#### Para el número mínimo de componentes sólo consideraremos las variables númericas."
      ],
      "metadata": {
        "id": "JoAINnxwWD6o"
      }
    },
    {
      "cell_type": "code",
      "source": [
        "cols = ['X1', 'X5'] + list(df.columns[12:-1])"
      ],
      "metadata": {
        "id": "3-JuckydI93O"
      },
      "execution_count": 6,
      "outputs": []
    },
    {
      "cell_type": "code",
      "source": [
        "print(cols)"
      ],
      "metadata": {
        "colab": {
          "base_uri": "https://localhost:8080/"
        },
        "id": "CoTgcRsOUF6k",
        "outputId": "b3eb904c-8089-49c9-cbd9-be542c45508e"
      },
      "execution_count": 7,
      "outputs": [
        {
          "output_type": "stream",
          "name": "stdout",
          "text": [
            "['X1', 'X5', 'X12', 'X13', 'X14', 'X15', 'X16', 'X17', 'X18', 'X19', 'X20', 'X21', 'X22', 'X23']\n"
          ]
        }
      ]
    },
    {
      "cell_type": "code",
      "source": [
        "df_pca = df[cols].copy()"
      ],
      "metadata": {
        "id": "XTgGyaNRgHpp"
      },
      "execution_count": 8,
      "outputs": []
    },
    {
      "cell_type": "markdown",
      "source": [
        "#### Antes de realizar el PCA se realizará limpieza en los datos seleccionados. Comportamiento de los *missing values*"
      ],
      "metadata": {
        "id": "v1_cM_Dp8P0j"
      }
    },
    {
      "cell_type": "code",
      "source": [
        "df_pca.isnull().sum()"
      ],
      "metadata": {
        "colab": {
          "base_uri": "https://localhost:8080/"
        },
        "id": "U0t06yVY8LLm",
        "outputId": "9dcfd533-f71b-4fcd-e441-3297c772d4ab"
      },
      "execution_count": 9,
      "outputs": [
        {
          "output_type": "execute_result",
          "data": {
            "text/plain": [
              "X1      0\n",
              "X5      5\n",
              "X12    11\n",
              "X13    11\n",
              "X14    13\n",
              "X15    15\n",
              "X16    17\n",
              "X17    10\n",
              "X18     8\n",
              "X19     9\n",
              "X20     8\n",
              "X21    11\n",
              "X22    11\n",
              "X23     5\n",
              "dtype: int64"
            ]
          },
          "metadata": {},
          "execution_count": 9
        }
      ]
    },
    {
      "cell_type": "markdown",
      "source": [
        "#### Para el caso de la variable X5 (edad) se le imputará la media."
      ],
      "metadata": {
        "id": "YcyIUFBcDIWL"
      }
    },
    {
      "cell_type": "code",
      "source": [
        "mean_age = df_pca['X5'].mean()\n",
        "df_pca['X5'] = df_pca['X5'].fillna(mean_age) "
      ],
      "metadata": {
        "id": "b7SGgVDfDIlk"
      },
      "execution_count": 10,
      "outputs": []
    },
    {
      "cell_type": "markdown",
      "source": [
        "#### Dado que de la variable X12 en adelante son valores que están relacionados al ser parte del historial de pago de cada usuario no sería correcto imputar algún valor, por lo que se eliminarán."
      ],
      "metadata": {
        "id": "qpfcNzSI_ogA"
      }
    },
    {
      "cell_type": "code",
      "source": [
        "cols = df_pca.columns[2:]"
      ],
      "metadata": {
        "id": "h24ow9RgArYu"
      },
      "execution_count": 11,
      "outputs": []
    },
    {
      "cell_type": "code",
      "source": [
        "df_pca.dropna(subset = cols, inplace = True)"
      ],
      "metadata": {
        "id": "oc_y1D-h8h-X"
      },
      "execution_count": 12,
      "outputs": []
    },
    {
      "cell_type": "markdown",
      "source": [
        "#### Volvemos a revisar los datos."
      ],
      "metadata": {
        "id": "eIHh3aPFB03P"
      }
    },
    {
      "cell_type": "code",
      "source": [
        "df_pca.isnull().sum()"
      ],
      "metadata": {
        "colab": {
          "base_uri": "https://localhost:8080/"
        },
        "id": "ggqo56CyBzTa",
        "outputId": "a389a838-477a-4bf4-9020-28838bea5729"
      },
      "execution_count": 13,
      "outputs": [
        {
          "output_type": "execute_result",
          "data": {
            "text/plain": [
              "X1     0\n",
              "X5     0\n",
              "X12    0\n",
              "X13    0\n",
              "X14    0\n",
              "X15    0\n",
              "X16    0\n",
              "X17    0\n",
              "X18    0\n",
              "X19    0\n",
              "X20    0\n",
              "X21    0\n",
              "X22    0\n",
              "X23    0\n",
              "dtype: int64"
            ]
          },
          "metadata": {},
          "execution_count": 13
        }
      ]
    },
    {
      "cell_type": "markdown",
      "source": [
        "#### Observamos el comportamiento general de los datos a los que le vamos a aplicar el **PCA**."
      ],
      "metadata": {
        "id": "tuJL8cCSEwho"
      }
    },
    {
      "cell_type": "code",
      "source": [
        "df_pca.describe()"
      ],
      "metadata": {
        "colab": {
          "base_uri": "https://localhost:8080/",
          "height": 364
        },
        "id": "xxrtpwVgCjUX",
        "outputId": "6f072171-afde-4a35-c656-188f3f2860cd"
      },
      "execution_count": 14,
      "outputs": [
        {
          "output_type": "execute_result",
          "data": {
            "text/plain": [
              "                   X1            X5            X12            X13  \\\n",
              "count    29974.000000  29974.000000   29974.000000   29974.000000   \n",
              "mean    167540.858077     35.481532   51246.906986   49202.807300   \n",
              "std     129743.276052      9.214270   73659.887824   71197.639676   \n",
              "min      10000.000000     21.000000 -165580.000000  -69777.000000   \n",
              "25%      50000.000000     28.000000    3564.250000    2986.000000   \n",
              "50%     140000.000000     34.000000   22385.500000   21209.500000   \n",
              "75%     240000.000000     41.000000   67209.750000   64064.500000   \n",
              "max    1000000.000000     79.000000  964511.000000  983931.000000   \n",
              "\n",
              "                X14            X15            X16            X17  \\\n",
              "count  2.997400e+04   29974.000000   29974.000000   29974.000000   \n",
              "mean   4.703716e+04   43284.435244   40332.919363   38892.705945   \n",
              "std    6.937218e+04   64354.238336   60816.733748   59573.602328   \n",
              "min   -1.572640e+05 -170000.000000  -81334.000000 -339603.000000   \n",
              "25%    2.670250e+03    2330.500000    1764.250000    1256.250000   \n",
              "50%    2.008950e+04   19052.000000   18112.500000   17078.500000   \n",
              "75%    6.018725e+04   54573.000000   50226.500000   49239.500000   \n",
              "max    1.664089e+06  891586.000000  927171.000000  961664.000000   \n",
              "\n",
              "                X18           X19            X20            X21  \\\n",
              "count   29974.00000  2.997400e+04   29974.000000   29974.000000   \n",
              "mean     5665.37359  5.925095e+03    5227.969540    4828.825682   \n",
              "std     16568.81184  2.305044e+04   17613.401376   15672.450541   \n",
              "min         0.00000  0.000000e+00       0.000000       0.000000   \n",
              "25%      1000.00000  8.360000e+02     390.000000     297.250000   \n",
              "50%      2100.00000  2.009500e+03    1800.000000    1500.000000   \n",
              "75%      5006.75000  5.000000e+03    4509.500000    4014.000000   \n",
              "max    873552.00000  1.684259e+06  896040.000000  621000.000000   \n",
              "\n",
              "                 X22            X23  \n",
              "count   29974.000000   29974.000000  \n",
              "mean     4801.736338    5219.370488  \n",
              "std     15284.174846   17784.653663  \n",
              "min         0.000000       0.000000  \n",
              "25%       254.250000     119.250000  \n",
              "50%      1500.000000    1500.000000  \n",
              "75%      4037.000000    4000.000000  \n",
              "max    426529.000000  528666.000000  "
            ],
            "text/html": [
              "\n",
              "  <div id=\"df-4a77e966-4bc4-4320-b65a-287c3e915b2e\">\n",
              "    <div class=\"colab-df-container\">\n",
              "      <div>\n",
              "<style scoped>\n",
              "    .dataframe tbody tr th:only-of-type {\n",
              "        vertical-align: middle;\n",
              "    }\n",
              "\n",
              "    .dataframe tbody tr th {\n",
              "        vertical-align: top;\n",
              "    }\n",
              "\n",
              "    .dataframe thead th {\n",
              "        text-align: right;\n",
              "    }\n",
              "</style>\n",
              "<table border=\"1\" class=\"dataframe\">\n",
              "  <thead>\n",
              "    <tr style=\"text-align: right;\">\n",
              "      <th></th>\n",
              "      <th>X1</th>\n",
              "      <th>X5</th>\n",
              "      <th>X12</th>\n",
              "      <th>X13</th>\n",
              "      <th>X14</th>\n",
              "      <th>X15</th>\n",
              "      <th>X16</th>\n",
              "      <th>X17</th>\n",
              "      <th>X18</th>\n",
              "      <th>X19</th>\n",
              "      <th>X20</th>\n",
              "      <th>X21</th>\n",
              "      <th>X22</th>\n",
              "      <th>X23</th>\n",
              "    </tr>\n",
              "  </thead>\n",
              "  <tbody>\n",
              "    <tr>\n",
              "      <th>count</th>\n",
              "      <td>29974.000000</td>\n",
              "      <td>29974.000000</td>\n",
              "      <td>29974.000000</td>\n",
              "      <td>29974.000000</td>\n",
              "      <td>2.997400e+04</td>\n",
              "      <td>29974.000000</td>\n",
              "      <td>29974.000000</td>\n",
              "      <td>29974.000000</td>\n",
              "      <td>29974.00000</td>\n",
              "      <td>2.997400e+04</td>\n",
              "      <td>29974.000000</td>\n",
              "      <td>29974.000000</td>\n",
              "      <td>29974.000000</td>\n",
              "      <td>29974.000000</td>\n",
              "    </tr>\n",
              "    <tr>\n",
              "      <th>mean</th>\n",
              "      <td>167540.858077</td>\n",
              "      <td>35.481532</td>\n",
              "      <td>51246.906986</td>\n",
              "      <td>49202.807300</td>\n",
              "      <td>4.703716e+04</td>\n",
              "      <td>43284.435244</td>\n",
              "      <td>40332.919363</td>\n",
              "      <td>38892.705945</td>\n",
              "      <td>5665.37359</td>\n",
              "      <td>5.925095e+03</td>\n",
              "      <td>5227.969540</td>\n",
              "      <td>4828.825682</td>\n",
              "      <td>4801.736338</td>\n",
              "      <td>5219.370488</td>\n",
              "    </tr>\n",
              "    <tr>\n",
              "      <th>std</th>\n",
              "      <td>129743.276052</td>\n",
              "      <td>9.214270</td>\n",
              "      <td>73659.887824</td>\n",
              "      <td>71197.639676</td>\n",
              "      <td>6.937218e+04</td>\n",
              "      <td>64354.238336</td>\n",
              "      <td>60816.733748</td>\n",
              "      <td>59573.602328</td>\n",
              "      <td>16568.81184</td>\n",
              "      <td>2.305044e+04</td>\n",
              "      <td>17613.401376</td>\n",
              "      <td>15672.450541</td>\n",
              "      <td>15284.174846</td>\n",
              "      <td>17784.653663</td>\n",
              "    </tr>\n",
              "    <tr>\n",
              "      <th>min</th>\n",
              "      <td>10000.000000</td>\n",
              "      <td>21.000000</td>\n",
              "      <td>-165580.000000</td>\n",
              "      <td>-69777.000000</td>\n",
              "      <td>-1.572640e+05</td>\n",
              "      <td>-170000.000000</td>\n",
              "      <td>-81334.000000</td>\n",
              "      <td>-339603.000000</td>\n",
              "      <td>0.00000</td>\n",
              "      <td>0.000000e+00</td>\n",
              "      <td>0.000000</td>\n",
              "      <td>0.000000</td>\n",
              "      <td>0.000000</td>\n",
              "      <td>0.000000</td>\n",
              "    </tr>\n",
              "    <tr>\n",
              "      <th>25%</th>\n",
              "      <td>50000.000000</td>\n",
              "      <td>28.000000</td>\n",
              "      <td>3564.250000</td>\n",
              "      <td>2986.000000</td>\n",
              "      <td>2.670250e+03</td>\n",
              "      <td>2330.500000</td>\n",
              "      <td>1764.250000</td>\n",
              "      <td>1256.250000</td>\n",
              "      <td>1000.00000</td>\n",
              "      <td>8.360000e+02</td>\n",
              "      <td>390.000000</td>\n",
              "      <td>297.250000</td>\n",
              "      <td>254.250000</td>\n",
              "      <td>119.250000</td>\n",
              "    </tr>\n",
              "    <tr>\n",
              "      <th>50%</th>\n",
              "      <td>140000.000000</td>\n",
              "      <td>34.000000</td>\n",
              "      <td>22385.500000</td>\n",
              "      <td>21209.500000</td>\n",
              "      <td>2.008950e+04</td>\n",
              "      <td>19052.000000</td>\n",
              "      <td>18112.500000</td>\n",
              "      <td>17078.500000</td>\n",
              "      <td>2100.00000</td>\n",
              "      <td>2.009500e+03</td>\n",
              "      <td>1800.000000</td>\n",
              "      <td>1500.000000</td>\n",
              "      <td>1500.000000</td>\n",
              "      <td>1500.000000</td>\n",
              "    </tr>\n",
              "    <tr>\n",
              "      <th>75%</th>\n",
              "      <td>240000.000000</td>\n",
              "      <td>41.000000</td>\n",
              "      <td>67209.750000</td>\n",
              "      <td>64064.500000</td>\n",
              "      <td>6.018725e+04</td>\n",
              "      <td>54573.000000</td>\n",
              "      <td>50226.500000</td>\n",
              "      <td>49239.500000</td>\n",
              "      <td>5006.75000</td>\n",
              "      <td>5.000000e+03</td>\n",
              "      <td>4509.500000</td>\n",
              "      <td>4014.000000</td>\n",
              "      <td>4037.000000</td>\n",
              "      <td>4000.000000</td>\n",
              "    </tr>\n",
              "    <tr>\n",
              "      <th>max</th>\n",
              "      <td>1000000.000000</td>\n",
              "      <td>79.000000</td>\n",
              "      <td>964511.000000</td>\n",
              "      <td>983931.000000</td>\n",
              "      <td>1.664089e+06</td>\n",
              "      <td>891586.000000</td>\n",
              "      <td>927171.000000</td>\n",
              "      <td>961664.000000</td>\n",
              "      <td>873552.00000</td>\n",
              "      <td>1.684259e+06</td>\n",
              "      <td>896040.000000</td>\n",
              "      <td>621000.000000</td>\n",
              "      <td>426529.000000</td>\n",
              "      <td>528666.000000</td>\n",
              "    </tr>\n",
              "  </tbody>\n",
              "</table>\n",
              "</div>\n",
              "      <button class=\"colab-df-convert\" onclick=\"convertToInteractive('df-4a77e966-4bc4-4320-b65a-287c3e915b2e')\"\n",
              "              title=\"Convert this dataframe to an interactive table.\"\n",
              "              style=\"display:none;\">\n",
              "        \n",
              "  <svg xmlns=\"http://www.w3.org/2000/svg\" height=\"24px\"viewBox=\"0 0 24 24\"\n",
              "       width=\"24px\">\n",
              "    <path d=\"M0 0h24v24H0V0z\" fill=\"none\"/>\n",
              "    <path d=\"M18.56 5.44l.94 2.06.94-2.06 2.06-.94-2.06-.94-.94-2.06-.94 2.06-2.06.94zm-11 1L8.5 8.5l.94-2.06 2.06-.94-2.06-.94L8.5 2.5l-.94 2.06-2.06.94zm10 10l.94 2.06.94-2.06 2.06-.94-2.06-.94-.94-2.06-.94 2.06-2.06.94z\"/><path d=\"M17.41 7.96l-1.37-1.37c-.4-.4-.92-.59-1.43-.59-.52 0-1.04.2-1.43.59L10.3 9.45l-7.72 7.72c-.78.78-.78 2.05 0 2.83L4 21.41c.39.39.9.59 1.41.59.51 0 1.02-.2 1.41-.59l7.78-7.78 2.81-2.81c.8-.78.8-2.07 0-2.86zM5.41 20L4 18.59l7.72-7.72 1.47 1.35L5.41 20z\"/>\n",
              "  </svg>\n",
              "      </button>\n",
              "      \n",
              "  <style>\n",
              "    .colab-df-container {\n",
              "      display:flex;\n",
              "      flex-wrap:wrap;\n",
              "      gap: 12px;\n",
              "    }\n",
              "\n",
              "    .colab-df-convert {\n",
              "      background-color: #E8F0FE;\n",
              "      border: none;\n",
              "      border-radius: 50%;\n",
              "      cursor: pointer;\n",
              "      display: none;\n",
              "      fill: #1967D2;\n",
              "      height: 32px;\n",
              "      padding: 0 0 0 0;\n",
              "      width: 32px;\n",
              "    }\n",
              "\n",
              "    .colab-df-convert:hover {\n",
              "      background-color: #E2EBFA;\n",
              "      box-shadow: 0px 1px 2px rgba(60, 64, 67, 0.3), 0px 1px 3px 1px rgba(60, 64, 67, 0.15);\n",
              "      fill: #174EA6;\n",
              "    }\n",
              "\n",
              "    [theme=dark] .colab-df-convert {\n",
              "      background-color: #3B4455;\n",
              "      fill: #D2E3FC;\n",
              "    }\n",
              "\n",
              "    [theme=dark] .colab-df-convert:hover {\n",
              "      background-color: #434B5C;\n",
              "      box-shadow: 0px 1px 3px 1px rgba(0, 0, 0, 0.15);\n",
              "      filter: drop-shadow(0px 1px 2px rgba(0, 0, 0, 0.3));\n",
              "      fill: #FFFFFF;\n",
              "    }\n",
              "  </style>\n",
              "\n",
              "      <script>\n",
              "        const buttonEl =\n",
              "          document.querySelector('#df-4a77e966-4bc4-4320-b65a-287c3e915b2e button.colab-df-convert');\n",
              "        buttonEl.style.display =\n",
              "          google.colab.kernel.accessAllowed ? 'block' : 'none';\n",
              "\n",
              "        async function convertToInteractive(key) {\n",
              "          const element = document.querySelector('#df-4a77e966-4bc4-4320-b65a-287c3e915b2e');\n",
              "          const dataTable =\n",
              "            await google.colab.kernel.invokeFunction('convertToInteractive',\n",
              "                                                     [key], {});\n",
              "          if (!dataTable) return;\n",
              "\n",
              "          const docLinkHtml = 'Like what you see? Visit the ' +\n",
              "            '<a target=\"_blank\" href=https://colab.research.google.com/notebooks/data_table.ipynb>data table notebook</a>'\n",
              "            + ' to learn more about interactive tables.';\n",
              "          element.innerHTML = '';\n",
              "          dataTable['output_type'] = 'display_data';\n",
              "          await google.colab.output.renderOutput(dataTable, element);\n",
              "          const docLink = document.createElement('div');\n",
              "          docLink.innerHTML = docLinkHtml;\n",
              "          element.appendChild(docLink);\n",
              "        }\n",
              "      </script>\n",
              "    </div>\n",
              "  </div>\n",
              "  "
            ]
          },
          "metadata": {},
          "execution_count": 14
        }
      ]
    },
    {
      "cell_type": "markdown",
      "source": [
        "#### Por lo que tendríamos 14 variables"
      ],
      "metadata": {
        "id": "2dDuopkOQFPN"
      }
    },
    {
      "cell_type": "code",
      "source": [
        "len(df_pca.columns)"
      ],
      "metadata": {
        "colab": {
          "base_uri": "https://localhost:8080/"
        },
        "id": "ck92y6JcE9I_",
        "outputId": "e0156c1e-1c4a-4419-a79b-c4e187ca32dd"
      },
      "execution_count": 15,
      "outputs": [
        {
          "output_type": "execute_result",
          "data": {
            "text/plain": [
              "14"
            ]
          },
          "metadata": {},
          "execution_count": 15
        }
      ]
    },
    {
      "cell_type": "markdown",
      "source": [
        "#### Ahora ejecutaremos el **PCA** a la vez que normalizamos nuestros datos."
      ],
      "metadata": {
        "id": "_i4E9PMKQfsQ"
      }
    },
    {
      "cell_type": "code",
      "source": [
        "pca = PCA()"
      ],
      "metadata": {
        "id": "VokxxdCEQMTt"
      },
      "execution_count": 16,
      "outputs": []
    },
    {
      "cell_type": "code",
      "source": [
        "pca.fit(df_pca)"
      ],
      "metadata": {
        "colab": {
          "base_uri": "https://localhost:8080/"
        },
        "id": "1XwlAVlfQvYo",
        "outputId": "b6e7d79b-9f66-4ee2-a687-e92d84c544b6"
      },
      "execution_count": 17,
      "outputs": [
        {
          "output_type": "execute_result",
          "data": {
            "text/plain": [
              "PCA()"
            ]
          },
          "metadata": {},
          "execution_count": 17
        }
      ]
    },
    {
      "cell_type": "code",
      "source": [
        "df_pca_summary = pd.DataFrame({'Standard deviation': np.sqrt(pca.explained_variance_),\n",
        "                               'Proportion of variance': pca.explained_variance_ratio_,\n",
        "                               'Cumulative proportion': np.cumsum(pca.explained_variance_ratio_)})"
      ],
      "metadata": {
        "id": "BnwbAtKNXidb"
      },
      "execution_count": 18,
      "outputs": []
    },
    {
      "cell_type": "code",
      "source": [
        "df_pca_summary = df_pca_summary.transpose()\n",
        "df_pca_summary"
      ],
      "metadata": {
        "colab": {
          "base_uri": "https://localhost:8080/",
          "height": 259
        },
        "id": "UuPQ8CCrYuxx",
        "outputId": "4a3916f7-e3e3-420b-f24b-020d2446490f"
      },
      "execution_count": 19,
      "outputs": [
        {
          "output_type": "execute_result",
          "data": {
            "text/plain": [
              "                                   0              1             2   \\\n",
              "Standard deviation      166559.577236  115831.110445  37249.520782   \n",
              "Proportion of variance       0.610502       0.295256      0.030534   \n",
              "Cumulative proportion        0.610502       0.905757      0.936292   \n",
              "\n",
              "                                  3             4             5   \\\n",
              "Standard deviation      27741.305094  20693.974244  20273.666547   \n",
              "Proportion of variance      0.016936      0.009424      0.009045   \n",
              "Cumulative proportion       0.953227      0.962651      0.971696   \n",
              "\n",
              "                                  6             7             8   \\\n",
              "Standard deviation      18518.478030  17036.189129  16289.853727   \n",
              "Proportion of variance      0.007547      0.006387      0.005840   \n",
              "Cumulative proportion       0.979243      0.985630      0.991470   \n",
              "\n",
              "                                  9             10           11           12  \\\n",
              "Standard deviation      11613.056937  10411.620440  8784.753152  8197.114543   \n",
              "Proportion of variance      0.002968      0.002386     0.001698     0.001479   \n",
              "Cumulative proportion       0.994438      0.996823     0.998521     1.000000   \n",
              "\n",
              "                                  13  \n",
              "Standard deviation      9.113845e+00  \n",
              "Proportion of variance  1.827894e-09  \n",
              "Cumulative proportion   1.000000e+00  "
            ],
            "text/html": [
              "\n",
              "  <div id=\"df-5c790269-4d19-4ba8-aef1-824cc1e4a119\">\n",
              "    <div class=\"colab-df-container\">\n",
              "      <div>\n",
              "<style scoped>\n",
              "    .dataframe tbody tr th:only-of-type {\n",
              "        vertical-align: middle;\n",
              "    }\n",
              "\n",
              "    .dataframe tbody tr th {\n",
              "        vertical-align: top;\n",
              "    }\n",
              "\n",
              "    .dataframe thead th {\n",
              "        text-align: right;\n",
              "    }\n",
              "</style>\n",
              "<table border=\"1\" class=\"dataframe\">\n",
              "  <thead>\n",
              "    <tr style=\"text-align: right;\">\n",
              "      <th></th>\n",
              "      <th>0</th>\n",
              "      <th>1</th>\n",
              "      <th>2</th>\n",
              "      <th>3</th>\n",
              "      <th>4</th>\n",
              "      <th>5</th>\n",
              "      <th>6</th>\n",
              "      <th>7</th>\n",
              "      <th>8</th>\n",
              "      <th>9</th>\n",
              "      <th>10</th>\n",
              "      <th>11</th>\n",
              "      <th>12</th>\n",
              "      <th>13</th>\n",
              "    </tr>\n",
              "  </thead>\n",
              "  <tbody>\n",
              "    <tr>\n",
              "      <th>Standard deviation</th>\n",
              "      <td>166559.577236</td>\n",
              "      <td>115831.110445</td>\n",
              "      <td>37249.520782</td>\n",
              "      <td>27741.305094</td>\n",
              "      <td>20693.974244</td>\n",
              "      <td>20273.666547</td>\n",
              "      <td>18518.478030</td>\n",
              "      <td>17036.189129</td>\n",
              "      <td>16289.853727</td>\n",
              "      <td>11613.056937</td>\n",
              "      <td>10411.620440</td>\n",
              "      <td>8784.753152</td>\n",
              "      <td>8197.114543</td>\n",
              "      <td>9.113845e+00</td>\n",
              "    </tr>\n",
              "    <tr>\n",
              "      <th>Proportion of variance</th>\n",
              "      <td>0.610502</td>\n",
              "      <td>0.295256</td>\n",
              "      <td>0.030534</td>\n",
              "      <td>0.016936</td>\n",
              "      <td>0.009424</td>\n",
              "      <td>0.009045</td>\n",
              "      <td>0.007547</td>\n",
              "      <td>0.006387</td>\n",
              "      <td>0.005840</td>\n",
              "      <td>0.002968</td>\n",
              "      <td>0.002386</td>\n",
              "      <td>0.001698</td>\n",
              "      <td>0.001479</td>\n",
              "      <td>1.827894e-09</td>\n",
              "    </tr>\n",
              "    <tr>\n",
              "      <th>Cumulative proportion</th>\n",
              "      <td>0.610502</td>\n",
              "      <td>0.905757</td>\n",
              "      <td>0.936292</td>\n",
              "      <td>0.953227</td>\n",
              "      <td>0.962651</td>\n",
              "      <td>0.971696</td>\n",
              "      <td>0.979243</td>\n",
              "      <td>0.985630</td>\n",
              "      <td>0.991470</td>\n",
              "      <td>0.994438</td>\n",
              "      <td>0.996823</td>\n",
              "      <td>0.998521</td>\n",
              "      <td>1.000000</td>\n",
              "      <td>1.000000e+00</td>\n",
              "    </tr>\n",
              "  </tbody>\n",
              "</table>\n",
              "</div>\n",
              "      <button class=\"colab-df-convert\" onclick=\"convertToInteractive('df-5c790269-4d19-4ba8-aef1-824cc1e4a119')\"\n",
              "              title=\"Convert this dataframe to an interactive table.\"\n",
              "              style=\"display:none;\">\n",
              "        \n",
              "  <svg xmlns=\"http://www.w3.org/2000/svg\" height=\"24px\"viewBox=\"0 0 24 24\"\n",
              "       width=\"24px\">\n",
              "    <path d=\"M0 0h24v24H0V0z\" fill=\"none\"/>\n",
              "    <path d=\"M18.56 5.44l.94 2.06.94-2.06 2.06-.94-2.06-.94-.94-2.06-.94 2.06-2.06.94zm-11 1L8.5 8.5l.94-2.06 2.06-.94-2.06-.94L8.5 2.5l-.94 2.06-2.06.94zm10 10l.94 2.06.94-2.06 2.06-.94-2.06-.94-.94-2.06-.94 2.06-2.06.94z\"/><path d=\"M17.41 7.96l-1.37-1.37c-.4-.4-.92-.59-1.43-.59-.52 0-1.04.2-1.43.59L10.3 9.45l-7.72 7.72c-.78.78-.78 2.05 0 2.83L4 21.41c.39.39.9.59 1.41.59.51 0 1.02-.2 1.41-.59l7.78-7.78 2.81-2.81c.8-.78.8-2.07 0-2.86zM5.41 20L4 18.59l7.72-7.72 1.47 1.35L5.41 20z\"/>\n",
              "  </svg>\n",
              "      </button>\n",
              "      \n",
              "  <style>\n",
              "    .colab-df-container {\n",
              "      display:flex;\n",
              "      flex-wrap:wrap;\n",
              "      gap: 12px;\n",
              "    }\n",
              "\n",
              "    .colab-df-convert {\n",
              "      background-color: #E8F0FE;\n",
              "      border: none;\n",
              "      border-radius: 50%;\n",
              "      cursor: pointer;\n",
              "      display: none;\n",
              "      fill: #1967D2;\n",
              "      height: 32px;\n",
              "      padding: 0 0 0 0;\n",
              "      width: 32px;\n",
              "    }\n",
              "\n",
              "    .colab-df-convert:hover {\n",
              "      background-color: #E2EBFA;\n",
              "      box-shadow: 0px 1px 2px rgba(60, 64, 67, 0.3), 0px 1px 3px 1px rgba(60, 64, 67, 0.15);\n",
              "      fill: #174EA6;\n",
              "    }\n",
              "\n",
              "    [theme=dark] .colab-df-convert {\n",
              "      background-color: #3B4455;\n",
              "      fill: #D2E3FC;\n",
              "    }\n",
              "\n",
              "    [theme=dark] .colab-df-convert:hover {\n",
              "      background-color: #434B5C;\n",
              "      box-shadow: 0px 1px 3px 1px rgba(0, 0, 0, 0.15);\n",
              "      filter: drop-shadow(0px 1px 2px rgba(0, 0, 0, 0.3));\n",
              "      fill: #FFFFFF;\n",
              "    }\n",
              "  </style>\n",
              "\n",
              "      <script>\n",
              "        const buttonEl =\n",
              "          document.querySelector('#df-5c790269-4d19-4ba8-aef1-824cc1e4a119 button.colab-df-convert');\n",
              "        buttonEl.style.display =\n",
              "          google.colab.kernel.accessAllowed ? 'block' : 'none';\n",
              "\n",
              "        async function convertToInteractive(key) {\n",
              "          const element = document.querySelector('#df-5c790269-4d19-4ba8-aef1-824cc1e4a119');\n",
              "          const dataTable =\n",
              "            await google.colab.kernel.invokeFunction('convertToInteractive',\n",
              "                                                     [key], {});\n",
              "          if (!dataTable) return;\n",
              "\n",
              "          const docLinkHtml = 'Like what you see? Visit the ' +\n",
              "            '<a target=\"_blank\" href=https://colab.research.google.com/notebooks/data_table.ipynb>data table notebook</a>'\n",
              "            + ' to learn more about interactive tables.';\n",
              "          element.innerHTML = '';\n",
              "          dataTable['output_type'] = 'display_data';\n",
              "          await google.colab.output.renderOutput(dataTable, element);\n",
              "          const docLink = document.createElement('div');\n",
              "          docLink.innerHTML = docLinkHtml;\n",
              "          element.appendChild(docLink);\n",
              "        }\n",
              "      </script>\n",
              "    </div>\n",
              "  </div>\n",
              "  "
            ]
          },
          "metadata": {},
          "execution_count": 19
        }
      ]
    },
    {
      "cell_type": "markdown",
      "source": [
        "#### De acuerdo con los resultados podríamos considerar que el número mínimo de componentes que representan la mayor parte de la varianza son 4.\n",
        "\n",
        "#### Lo anterior de acuerdo a lo que se sugiere en el capítulo 8 de *Hands on Machine Learning with Scikit-Learn, Keras & Tensorflow* de Aurelien Gerón."
      ],
      "metadata": {
        "id": "IpDbLorHZCP8"
      }
    },
    {
      "cell_type": "markdown",
      "source": [
        "### Paso 2: Interprete cada componente principal en términos de las variables originales\n",
        "\n",
        "* Examine la magnitud y la dirección de los coeficientes de las variables originales.\n",
        "Nota: Cuanto mayor sea el valor absoluto del coeficiente, más importante será la variable correspondiente en el cálculo del componente."
      ],
      "metadata": {
        "id": "7BGgOJxAyAAs"
      }
    },
    {
      "cell_type": "code",
      "source": [
        "df_pca_components = pd.DataFrame(pca.components_.transpose(),\n",
        "                                 columns = df_pca_summary.columns,\n",
        "                                 index = df_pca.iloc[:, :].columns)\n",
        "\n",
        "df_pca_components.iloc[:, :4].round(4)"
      ],
      "metadata": {
        "colab": {
          "base_uri": "https://localhost:8080/",
          "height": 488
        },
        "id": "FMVvhnJVYwuR",
        "outputId": "3a66b364-b5e8-454f-8c53-ea1d60e37cac"
      },
      "execution_count": 20,
      "outputs": [
        {
          "output_type": "execute_result",
          "data": {
            "text/plain": [
              "          0       1       2       3\n",
              "X1   0.4912  0.8692 -0.0206 -0.0184\n",
              "X5   0.0000  0.0000 -0.0000 -0.0000\n",
              "X12  0.3885 -0.2212 -0.5489 -0.2049\n",
              "X13  0.3815 -0.2262 -0.3909 -0.0377\n",
              "X14  0.3723 -0.2164 -0.0481  0.5534\n",
              "X15  0.3465 -0.1939  0.2610  0.0792\n",
              "X16  0.3230 -0.1767  0.4281 -0.2001\n",
              "X17  0.3086 -0.1672  0.4837 -0.3084\n",
              "X18  0.0266  0.0057  0.0375  0.1936\n",
              "X19  0.0313  0.0108  0.1600  0.6732\n",
              "X20  0.0268  0.0110  0.1351  0.0284\n",
              "X21  0.0222  0.0104  0.0944 -0.0403\n",
              "X22  0.0222  0.0117  0.0559  0.0137\n",
              "X23  0.0248  0.0154 -0.0209  0.1232"
            ],
            "text/html": [
              "\n",
              "  <div id=\"df-7cb927cb-c239-4b7c-a57b-9f269d248f3a\">\n",
              "    <div class=\"colab-df-container\">\n",
              "      <div>\n",
              "<style scoped>\n",
              "    .dataframe tbody tr th:only-of-type {\n",
              "        vertical-align: middle;\n",
              "    }\n",
              "\n",
              "    .dataframe tbody tr th {\n",
              "        vertical-align: top;\n",
              "    }\n",
              "\n",
              "    .dataframe thead th {\n",
              "        text-align: right;\n",
              "    }\n",
              "</style>\n",
              "<table border=\"1\" class=\"dataframe\">\n",
              "  <thead>\n",
              "    <tr style=\"text-align: right;\">\n",
              "      <th></th>\n",
              "      <th>0</th>\n",
              "      <th>1</th>\n",
              "      <th>2</th>\n",
              "      <th>3</th>\n",
              "    </tr>\n",
              "  </thead>\n",
              "  <tbody>\n",
              "    <tr>\n",
              "      <th>X1</th>\n",
              "      <td>0.4912</td>\n",
              "      <td>0.8692</td>\n",
              "      <td>-0.0206</td>\n",
              "      <td>-0.0184</td>\n",
              "    </tr>\n",
              "    <tr>\n",
              "      <th>X5</th>\n",
              "      <td>0.0000</td>\n",
              "      <td>0.0000</td>\n",
              "      <td>-0.0000</td>\n",
              "      <td>-0.0000</td>\n",
              "    </tr>\n",
              "    <tr>\n",
              "      <th>X12</th>\n",
              "      <td>0.3885</td>\n",
              "      <td>-0.2212</td>\n",
              "      <td>-0.5489</td>\n",
              "      <td>-0.2049</td>\n",
              "    </tr>\n",
              "    <tr>\n",
              "      <th>X13</th>\n",
              "      <td>0.3815</td>\n",
              "      <td>-0.2262</td>\n",
              "      <td>-0.3909</td>\n",
              "      <td>-0.0377</td>\n",
              "    </tr>\n",
              "    <tr>\n",
              "      <th>X14</th>\n",
              "      <td>0.3723</td>\n",
              "      <td>-0.2164</td>\n",
              "      <td>-0.0481</td>\n",
              "      <td>0.5534</td>\n",
              "    </tr>\n",
              "    <tr>\n",
              "      <th>X15</th>\n",
              "      <td>0.3465</td>\n",
              "      <td>-0.1939</td>\n",
              "      <td>0.2610</td>\n",
              "      <td>0.0792</td>\n",
              "    </tr>\n",
              "    <tr>\n",
              "      <th>X16</th>\n",
              "      <td>0.3230</td>\n",
              "      <td>-0.1767</td>\n",
              "      <td>0.4281</td>\n",
              "      <td>-0.2001</td>\n",
              "    </tr>\n",
              "    <tr>\n",
              "      <th>X17</th>\n",
              "      <td>0.3086</td>\n",
              "      <td>-0.1672</td>\n",
              "      <td>0.4837</td>\n",
              "      <td>-0.3084</td>\n",
              "    </tr>\n",
              "    <tr>\n",
              "      <th>X18</th>\n",
              "      <td>0.0266</td>\n",
              "      <td>0.0057</td>\n",
              "      <td>0.0375</td>\n",
              "      <td>0.1936</td>\n",
              "    </tr>\n",
              "    <tr>\n",
              "      <th>X19</th>\n",
              "      <td>0.0313</td>\n",
              "      <td>0.0108</td>\n",
              "      <td>0.1600</td>\n",
              "      <td>0.6732</td>\n",
              "    </tr>\n",
              "    <tr>\n",
              "      <th>X20</th>\n",
              "      <td>0.0268</td>\n",
              "      <td>0.0110</td>\n",
              "      <td>0.1351</td>\n",
              "      <td>0.0284</td>\n",
              "    </tr>\n",
              "    <tr>\n",
              "      <th>X21</th>\n",
              "      <td>0.0222</td>\n",
              "      <td>0.0104</td>\n",
              "      <td>0.0944</td>\n",
              "      <td>-0.0403</td>\n",
              "    </tr>\n",
              "    <tr>\n",
              "      <th>X22</th>\n",
              "      <td>0.0222</td>\n",
              "      <td>0.0117</td>\n",
              "      <td>0.0559</td>\n",
              "      <td>0.0137</td>\n",
              "    </tr>\n",
              "    <tr>\n",
              "      <th>X23</th>\n",
              "      <td>0.0248</td>\n",
              "      <td>0.0154</td>\n",
              "      <td>-0.0209</td>\n",
              "      <td>0.1232</td>\n",
              "    </tr>\n",
              "  </tbody>\n",
              "</table>\n",
              "</div>\n",
              "      <button class=\"colab-df-convert\" onclick=\"convertToInteractive('df-7cb927cb-c239-4b7c-a57b-9f269d248f3a')\"\n",
              "              title=\"Convert this dataframe to an interactive table.\"\n",
              "              style=\"display:none;\">\n",
              "        \n",
              "  <svg xmlns=\"http://www.w3.org/2000/svg\" height=\"24px\"viewBox=\"0 0 24 24\"\n",
              "       width=\"24px\">\n",
              "    <path d=\"M0 0h24v24H0V0z\" fill=\"none\"/>\n",
              "    <path d=\"M18.56 5.44l.94 2.06.94-2.06 2.06-.94-2.06-.94-.94-2.06-.94 2.06-2.06.94zm-11 1L8.5 8.5l.94-2.06 2.06-.94-2.06-.94L8.5 2.5l-.94 2.06-2.06.94zm10 10l.94 2.06.94-2.06 2.06-.94-2.06-.94-.94-2.06-.94 2.06-2.06.94z\"/><path d=\"M17.41 7.96l-1.37-1.37c-.4-.4-.92-.59-1.43-.59-.52 0-1.04.2-1.43.59L10.3 9.45l-7.72 7.72c-.78.78-.78 2.05 0 2.83L4 21.41c.39.39.9.59 1.41.59.51 0 1.02-.2 1.41-.59l7.78-7.78 2.81-2.81c.8-.78.8-2.07 0-2.86zM5.41 20L4 18.59l7.72-7.72 1.47 1.35L5.41 20z\"/>\n",
              "  </svg>\n",
              "      </button>\n",
              "      \n",
              "  <style>\n",
              "    .colab-df-container {\n",
              "      display:flex;\n",
              "      flex-wrap:wrap;\n",
              "      gap: 12px;\n",
              "    }\n",
              "\n",
              "    .colab-df-convert {\n",
              "      background-color: #E8F0FE;\n",
              "      border: none;\n",
              "      border-radius: 50%;\n",
              "      cursor: pointer;\n",
              "      display: none;\n",
              "      fill: #1967D2;\n",
              "      height: 32px;\n",
              "      padding: 0 0 0 0;\n",
              "      width: 32px;\n",
              "    }\n",
              "\n",
              "    .colab-df-convert:hover {\n",
              "      background-color: #E2EBFA;\n",
              "      box-shadow: 0px 1px 2px rgba(60, 64, 67, 0.3), 0px 1px 3px 1px rgba(60, 64, 67, 0.15);\n",
              "      fill: #174EA6;\n",
              "    }\n",
              "\n",
              "    [theme=dark] .colab-df-convert {\n",
              "      background-color: #3B4455;\n",
              "      fill: #D2E3FC;\n",
              "    }\n",
              "\n",
              "    [theme=dark] .colab-df-convert:hover {\n",
              "      background-color: #434B5C;\n",
              "      box-shadow: 0px 1px 3px 1px rgba(0, 0, 0, 0.15);\n",
              "      filter: drop-shadow(0px 1px 2px rgba(0, 0, 0, 0.3));\n",
              "      fill: #FFFFFF;\n",
              "    }\n",
              "  </style>\n",
              "\n",
              "      <script>\n",
              "        const buttonEl =\n",
              "          document.querySelector('#df-7cb927cb-c239-4b7c-a57b-9f269d248f3a button.colab-df-convert');\n",
              "        buttonEl.style.display =\n",
              "          google.colab.kernel.accessAllowed ? 'block' : 'none';\n",
              "\n",
              "        async function convertToInteractive(key) {\n",
              "          const element = document.querySelector('#df-7cb927cb-c239-4b7c-a57b-9f269d248f3a');\n",
              "          const dataTable =\n",
              "            await google.colab.kernel.invokeFunction('convertToInteractive',\n",
              "                                                     [key], {});\n",
              "          if (!dataTable) return;\n",
              "\n",
              "          const docLinkHtml = 'Like what you see? Visit the ' +\n",
              "            '<a target=\"_blank\" href=https://colab.research.google.com/notebooks/data_table.ipynb>data table notebook</a>'\n",
              "            + ' to learn more about interactive tables.';\n",
              "          element.innerHTML = '';\n",
              "          dataTable['output_type'] = 'display_data';\n",
              "          await google.colab.output.renderOutput(dataTable, element);\n",
              "          const docLink = document.createElement('div');\n",
              "          docLink.innerHTML = docLinkHtml;\n",
              "          element.appendChild(docLink);\n",
              "        }\n",
              "      </script>\n",
              "    </div>\n",
              "  </div>\n",
              "  "
            ]
          },
          "metadata": {},
          "execution_count": 20
        }
      ]
    },
    {
      "cell_type": "markdown",
      "source": [
        "* En términos de magnitud y dirección PC1 está dominado por la variable X1 (cantidad otorgada de crédito) con dirección positiva.\n",
        "\n",
        "* En términos de magnitud y dirección PC2 está dominado por la variable X1 (cantidad otorgada de crédito) con dirección positiva.\n",
        "\n",
        "* En términos de magnitud y dirección PC3 está dominado por la variable X12 (saldo en el estado de cuenta en septiembre 2005) con dirección negativa.\n",
        "\n",
        "* En términos de magnitud y dirección PC4 está dominado por la variable X19 (cantidad pagada en agosto de 2005) con dirección positiva."
      ],
      "metadata": {
        "id": "dCeN7T6g7BGd"
      }
    },
    {
      "cell_type": "markdown",
      "source": [
        "### Paso 3: Identifique valores atípicos\n",
        "\n",
        "* Realice alguna gráfica de valores atípicos o boxplot para identificar los valores atípicos. Cualquier punto que esté más alejado de la línea de referencia es un valor atípico."
      ],
      "metadata": {
        "id": "lEIi9RIq-GMi"
      }
    },
    {
      "cell_type": "code",
      "source": [
        "fig = plt.figure(figsize = (10, 7))\n",
        "df_pca.boxplot()\n",
        "plt.show()"
      ],
      "metadata": {
        "id": "I7HxECcY4sny",
        "colab": {
          "base_uri": "https://localhost:8080/",
          "height": 439
        },
        "outputId": "23ae6237-2d33-4c5a-9974-9fcb1b959dda"
      },
      "execution_count": 28,
      "outputs": [
        {
          "output_type": "display_data",
          "data": {
            "text/plain": [
              "<Figure size 720x504 with 1 Axes>"
            ],
            "image/png": "[encoded data removed]"
          },
          "metadata": {
            "needs_background": "light"
          }
        }
      ]
    },
    {
      "cell_type": "markdown",
      "source": [
        "### **Parte 2: Responde las siguientes preguntas en una celda de texto en Jupyter Notebook**\n"
      ],
      "metadata": {
        "id": "4_mS-cTY-QMS"
      }
    },
    {
      "cell_type": "markdown",
      "source": [
        "\n",
        "\n",
        "### 1.   ¿Cuál es el número de componentes mínimo y por qué?\n",
        "\n",
        "### **Son cuatro componentes mínimos**\n",
        "\n",
        "### 2.   ¿Cuál es la variación de los datos que representan esos componentes?\n",
        "\n",
        "\n",
        "### 3. ¿Cuál es la pérdida de información después de realizar PCA?\n",
        "\n",
        "\n",
        "### 4. De las variables originales, ¿Cuál tiene mayor y cuál tiene menor importancia en los componentes principales?\n",
        "\n",
        "\n",
        "### 5. ¿Cuándo se recomienda realizar un PCA y qué beneficios ofrece para Machine Learning?\n",
        "\n"
      ],
      "metadata": {
        "id": "p0LGzQm_-2em"
      }
    },
    {
      "cell_type": "code",
      "source": [],
      "metadata": {
        "id": "U-l-BMp8-YBa"
      },
      "execution_count": 28,
      "outputs": []
    },
    {
      "cell_type": "code",
      "source": [],
      "metadata": {
        "id": "PXQ9-na9NjUQ"
      },
      "execution_count": 27,
      "outputs": []
    },
    {
      "cell_type": "code",
      "source": [],
      "metadata": {
        "id": "kL_h16-AN-P5"
      },
      "execution_count": null,
      "outputs": []
    }
  ]
}