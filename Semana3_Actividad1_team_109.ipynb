{
  "nbformat": 4,
  "nbformat_minor": 0,
  "metadata": {
    "colab": {
      "provenance": [],
      "authorship_tag": "ABX9TyOjwgqnwZ9s9QfZ4fhv5yC3",
      "include_colab_link": true
    },
    "kernelspec": {
      "name": "python3",
      "display_name": "Python 3"
    },
    "language_info": {
      "name": "python"
    }
  },
  "cells": [
    {
      "cell_type": "markdown",
      "metadata": {
        "id": "view-in-github",
        "colab_type": "text"
      },
      "source": [
        "<a href=\"https://colab.research.google.com/github/PosgradoMNA/actividades-del-projecto-team_109/blob/main/Semana3_Actividad1_team_109.ipynb\" target=\"_parent\"><img src=\"https://colab.research.google.com/assets/colab-badge.svg\" alt=\"Open In Colab\"/></a>"
      ]
    },
    {
      "cell_type": "markdown",
      "source": [
        "# **Semana 3 - Actividad 1**\n",
        "\n",
        "## José Antonio Mendoza Castro - A01794067\n",
        "## Miguel Angel Aguilera Rodríguez - A00642541"
      ],
      "metadata": {
        "id": "C6CQkczvCODW"
      }
    },
    {
      "cell_type": "markdown",
      "source": [
        "# **Parte 1 - Fundamentos de bases de datos**"
      ],
      "metadata": {
        "id": "x0mjkd8LCe4d"
      }
    },
    {
      "cell_type": "markdown",
      "source": [
        "#### **1. Fundamentos de bases de datos y para ciencia de datos.**\n",
        "\n",
        "Las bases de datos pueden ser guardadas de muchas maneras, principalmente de manera estructurada y no estructurada. La que conocemos de manera más habitual es la estructurada la cual se enfoca principalmente en formatos tabulares que contiene texto o números.\n",
        "Las bases de datos relacionables más comunes de encontrar son en los sistemas:\n",
        "*Oracle\n",
        "*MySQL\n",
        "*MS SQL Server\n",
        "*PostgreSQL\n",
        "*Amazon Redshift\n",
        "*IBM DB2\n",
        "*MS Access\n",
        "*SQLite\n",
        "*Snowflake\n",
        "\n",
        "Una de las maneras en las que mejor se puede aprovechar la base de datos es conectándola directamente con código como Python, R o el propio SQL.\n",
        "\n",
        "\n",
        "Es de suma importancia que antes de comenzar a analizar los datos, garantizar que esta se encuentre en las condiciones adecuadas.\n",
        "\n",
        "El termino “limpieza de datos” hace énfasis en que la información que se mete a un modelo, si no es de calidad, el resultante no será de calidad. Por lo que el establecimiento de criterios en las informaciones para tener un gobierno de datos en las bases de datos es de suma importancia.\n",
        "\n"
      ],
      "metadata": {
        "id": "bANwMU0uDg50"
      }
    },
    {
      "cell_type": "markdown",
      "source": [
        "#### **2. Fundamentos de almacenes de datos (Data Warehouse) para ciencia de datos.**\n",
        "\n",
        "Los almacenes de datos es un sistema de gestión el cual está diseñado para facilitar el análisis de la información recolectada y facilita la toma de decisiones del negocio.\n",
        "\n",
        "Este almacenamiento de datos tiene como principal finalidad la centralización de información masiva. Es importante que estos almacenes sean custodiados para garantizar la integridad de la información ya que al ser la fuente de verdad absoluta muchas veces, al ser corrompida y no detectada, puede llevar a mala toma de decisiones."
      ],
      "metadata": {
        "id": "og2B4gkSDhOj"
      }
    },
    {
      "cell_type": "markdown",
      "source": [
        "# **Parte 2 - Selección y limpieza de los datos en Python**"
      ],
      "metadata": {
        "id": "TAOB2w40BRIs"
      }
    },
    {
      "cell_type": "markdown",
      "source": [
        "#### Importar librerías"
      ],
      "metadata": {
        "id": "G1DrRwJQ50Q8"
      }
    },
    {
      "cell_type": "code",
      "source": [
        "import pandas as pd\n",
        "import numpy as np"
      ],
      "metadata": {
        "id": "mRtPo0M41mXK"
      },
      "execution_count": 1,
      "outputs": []
    },
    {
      "cell_type": "markdown",
      "source": [
        "#### Configurar opciones de Pandas para mostrar todas las columnas del *dataframe*"
      ],
      "metadata": {
        "id": "QHKWQmE857GL"
      }
    },
    {
      "cell_type": "code",
      "source": [
        "pd.set_option('display.max_columns', 100)"
      ],
      "metadata": {
        "id": "OifLgmth4QwS"
      },
      "execution_count": 2,
      "outputs": []
    },
    {
      "cell_type": "markdown",
      "source": [
        "#### Lectura del *dataframe*"
      ],
      "metadata": {
        "id": "yjO9lVXQ6LlU"
      }
    },
    {
      "cell_type": "code",
      "source": [
        "df = pd.read_csv('default of credit card clients.csv')"
      ],
      "metadata": {
        "id": "6VnBVCBc1UCI"
      },
      "execution_count": 3,
      "outputs": []
    },
    {
      "cell_type": "markdown",
      "source": [
        "#### Visualización general de todos los campos a partir del método *.head()*"
      ],
      "metadata": {
        "id": "Q3D4q-sa6UWH"
      }
    },
    {
      "cell_type": "code",
      "source": [
        "df.head()"
      ],
      "metadata": {
        "colab": {
          "base_uri": "https://localhost:8080/",
          "height": 270
        },
        "id": "mLlB-HXF1_SN",
        "outputId": "1ead3e09-8f22-413d-eb24-f5f6bbe2fed5"
      },
      "execution_count": 4,
      "outputs": [
        {
          "output_type": "execute_result",
          "data": {
            "text/plain": [
              "   ID      X1   X2   X3   X4    X5   X6   X7   X8   X9  X10  X11      X12  \\\n",
              "0   1   20000  2.0  2.0  1.0  24.0  2.0  2.0 -1.0 -1.0 -2.0 -2.0   3913.0   \n",
              "1   2  120000  2.0  2.0  2.0  26.0 -1.0  2.0  0.0  0.0  0.0  2.0   2682.0   \n",
              "2   3   90000  2.0  2.0  2.0  34.0  0.0  0.0  0.0  0.0  0.0  0.0  29239.0   \n",
              "3   4   50000  2.0  2.0  1.0  37.0  0.0  0.0  0.0  0.0  0.0  0.0  46990.0   \n",
              "4   5   50000  1.0  2.0  1.0  57.0 -1.0  0.0 -1.0  0.0  0.0  0.0   8617.0   \n",
              "\n",
              "       X13      X14      X15      X16      X17     X18      X19      X20  \\\n",
              "0   3102.0    689.0      0.0      0.0      0.0     0.0    689.0      0.0   \n",
              "1   1725.0   2682.0   3272.0   3455.0   3261.0     0.0   1000.0   1000.0   \n",
              "2  14027.0  13559.0  14331.0  14948.0  15549.0  1518.0   1500.0   1000.0   \n",
              "3  48233.0  49291.0  28314.0  28959.0  29547.0  2000.0   2019.0   1200.0   \n",
              "4   5670.0  35835.0  20940.0  19146.0  19131.0  2000.0  36681.0  10000.0   \n",
              "\n",
              "      X21     X22     X23    Y  \n",
              "0     0.0     0.0     0.0  1.0  \n",
              "1  1000.0     0.0  2000.0  1.0  \n",
              "2  1000.0  1000.0  5000.0  0.0  \n",
              "3  1100.0  1069.0  1000.0  0.0  \n",
              "4  9000.0   689.0   679.0  0.0  "
            ],
            "text/html": [
              "\n",
              "  <div id=\"df-27e71ccc-2189-4293-af58-7357df39055d\">\n",
              "    <div class=\"colab-df-container\">\n",
              "      <div>\n",
              "<style scoped>\n",
              "    .dataframe tbody tr th:only-of-type {\n",
              "        vertical-align: middle;\n",
              "    }\n",
              "\n",
              "    .dataframe tbody tr th {\n",
              "        vertical-align: top;\n",
              "    }\n",
              "\n",
              "    .dataframe thead th {\n",
              "        text-align: right;\n",
              "    }\n",
              "</style>\n",
              "<table border=\"1\" class=\"dataframe\">\n",
              "  <thead>\n",
              "    <tr style=\"text-align: right;\">\n",
              "      <th></th>\n",
              "      <th>ID</th>\n",
              "      <th>X1</th>\n",
              "      <th>X2</th>\n",
              "      <th>X3</th>\n",
              "      <th>X4</th>\n",
              "      <th>X5</th>\n",
              "      <th>X6</th>\n",
              "      <th>X7</th>\n",
              "      <th>X8</th>\n",
              "      <th>X9</th>\n",
              "      <th>X10</th>\n",
              "      <th>X11</th>\n",
              "      <th>X12</th>\n",
              "      <th>X13</th>\n",
              "      <th>X14</th>\n",
              "      <th>X15</th>\n",
              "      <th>X16</th>\n",
              "      <th>X17</th>\n",
              "      <th>X18</th>\n",
              "      <th>X19</th>\n",
              "      <th>X20</th>\n",
              "      <th>X21</th>\n",
              "      <th>X22</th>\n",
              "      <th>X23</th>\n",
              "      <th>Y</th>\n",
              "    </tr>\n",
              "  </thead>\n",
              "  <tbody>\n",
              "    <tr>\n",
              "      <th>0</th>\n",
              "      <td>1</td>\n",
              "      <td>20000</td>\n",
              "      <td>2.0</td>\n",
              "      <td>2.0</td>\n",
              "      <td>1.0</td>\n",
              "      <td>24.0</td>\n",
              "      <td>2.0</td>\n",
              "      <td>2.0</td>\n",
              "      <td>-1.0</td>\n",
              "      <td>-1.0</td>\n",
              "      <td>-2.0</td>\n",
              "      <td>-2.0</td>\n",
              "      <td>3913.0</td>\n",
              "      <td>3102.0</td>\n",
              "      <td>689.0</td>\n",
              "      <td>0.0</td>\n",
              "      <td>0.0</td>\n",
              "      <td>0.0</td>\n",
              "      <td>0.0</td>\n",
              "      <td>689.0</td>\n",
              "      <td>0.0</td>\n",
              "      <td>0.0</td>\n",
              "      <td>0.0</td>\n",
              "      <td>0.0</td>\n",
              "      <td>1.0</td>\n",
              "    </tr>\n",
              "    <tr>\n",
              "      <th>1</th>\n",
              "      <td>2</td>\n",
              "      <td>120000</td>\n",
              "      <td>2.0</td>\n",
              "      <td>2.0</td>\n",
              "      <td>2.0</td>\n",
              "      <td>26.0</td>\n",
              "      <td>-1.0</td>\n",
              "      <td>2.0</td>\n",
              "      <td>0.0</td>\n",
              "      <td>0.0</td>\n",
              "      <td>0.0</td>\n",
              "      <td>2.0</td>\n",
              "      <td>2682.0</td>\n",
              "      <td>1725.0</td>\n",
              "      <td>2682.0</td>\n",
              "      <td>3272.0</td>\n",
              "      <td>3455.0</td>\n",
              "      <td>3261.0</td>\n",
              "      <td>0.0</td>\n",
              "      <td>1000.0</td>\n",
              "      <td>1000.0</td>\n",
              "      <td>1000.0</td>\n",
              "      <td>0.0</td>\n",
              "      <td>2000.0</td>\n",
              "      <td>1.0</td>\n",
              "    </tr>\n",
              "    <tr>\n",
              "      <th>2</th>\n",
              "      <td>3</td>\n",
              "      <td>90000</td>\n",
              "      <td>2.0</td>\n",
              "      <td>2.0</td>\n",
              "      <td>2.0</td>\n",
              "      <td>34.0</td>\n",
              "      <td>0.0</td>\n",
              "      <td>0.0</td>\n",
              "      <td>0.0</td>\n",
              "      <td>0.0</td>\n",
              "      <td>0.0</td>\n",
              "      <td>0.0</td>\n",
              "      <td>29239.0</td>\n",
              "      <td>14027.0</td>\n",
              "      <td>13559.0</td>\n",
              "      <td>14331.0</td>\n",
              "      <td>14948.0</td>\n",
              "      <td>15549.0</td>\n",
              "      <td>1518.0</td>\n",
              "      <td>1500.0</td>\n",
              "      <td>1000.0</td>\n",
              "      <td>1000.0</td>\n",
              "      <td>1000.0</td>\n",
              "      <td>5000.0</td>\n",
              "      <td>0.0</td>\n",
              "    </tr>\n",
              "    <tr>\n",
              "      <th>3</th>\n",
              "      <td>4</td>\n",
              "      <td>50000</td>\n",
              "      <td>2.0</td>\n",
              "      <td>2.0</td>\n",
              "      <td>1.0</td>\n",
              "      <td>37.0</td>\n",
              "      <td>0.0</td>\n",
              "      <td>0.0</td>\n",
              "      <td>0.0</td>\n",
              "      <td>0.0</td>\n",
              "      <td>0.0</td>\n",
              "      <td>0.0</td>\n",
              "      <td>46990.0</td>\n",
              "      <td>48233.0</td>\n",
              "      <td>49291.0</td>\n",
              "      <td>28314.0</td>\n",
              "      <td>28959.0</td>\n",
              "      <td>29547.0</td>\n",
              "      <td>2000.0</td>\n",
              "      <td>2019.0</td>\n",
              "      <td>1200.0</td>\n",
              "      <td>1100.0</td>\n",
              "      <td>1069.0</td>\n",
              "      <td>1000.0</td>\n",
              "      <td>0.0</td>\n",
              "    </tr>\n",
              "    <tr>\n",
              "      <th>4</th>\n",
              "      <td>5</td>\n",
              "      <td>50000</td>\n",
              "      <td>1.0</td>\n",
              "      <td>2.0</td>\n",
              "      <td>1.0</td>\n",
              "      <td>57.0</td>\n",
              "      <td>-1.0</td>\n",
              "      <td>0.0</td>\n",
              "      <td>-1.0</td>\n",
              "      <td>0.0</td>\n",
              "      <td>0.0</td>\n",
              "      <td>0.0</td>\n",
              "      <td>8617.0</td>\n",
              "      <td>5670.0</td>\n",
              "      <td>35835.0</td>\n",
              "      <td>20940.0</td>\n",
              "      <td>19146.0</td>\n",
              "      <td>19131.0</td>\n",
              "      <td>2000.0</td>\n",
              "      <td>36681.0</td>\n",
              "      <td>10000.0</td>\n",
              "      <td>9000.0</td>\n",
              "      <td>689.0</td>\n",
              "      <td>679.0</td>\n",
              "      <td>0.0</td>\n",
              "    </tr>\n",
              "  </tbody>\n",
              "</table>\n",
              "</div>\n",
              "      <button class=\"colab-df-convert\" onclick=\"convertToInteractive('df-27e71ccc-2189-4293-af58-7357df39055d')\"\n",
              "              title=\"Convert this dataframe to an interactive table.\"\n",
              "              style=\"display:none;\">\n",
              "        \n",
              "  <svg xmlns=\"http://www.w3.org/2000/svg\" height=\"24px\"viewBox=\"0 0 24 24\"\n",
              "       width=\"24px\">\n",
              "    <path d=\"M0 0h24v24H0V0z\" fill=\"none\"/>\n",
              "    <path d=\"M18.56 5.44l.94 2.06.94-2.06 2.06-.94-2.06-.94-.94-2.06-.94 2.06-2.06.94zm-11 1L8.5 8.5l.94-2.06 2.06-.94-2.06-.94L8.5 2.5l-.94 2.06-2.06.94zm10 10l.94 2.06.94-2.06 2.06-.94-2.06-.94-.94-2.06-.94 2.06-2.06.94z\"/><path d=\"M17.41 7.96l-1.37-1.37c-.4-.4-.92-.59-1.43-.59-.52 0-1.04.2-1.43.59L10.3 9.45l-7.72 7.72c-.78.78-.78 2.05 0 2.83L4 21.41c.39.39.9.59 1.41.59.51 0 1.02-.2 1.41-.59l7.78-7.78 2.81-2.81c.8-.78.8-2.07 0-2.86zM5.41 20L4 18.59l7.72-7.72 1.47 1.35L5.41 20z\"/>\n",
              "  </svg>\n",
              "      </button>\n",
              "      \n",
              "  <style>\n",
              "    .colab-df-container {\n",
              "      display:flex;\n",
              "      flex-wrap:wrap;\n",
              "      gap: 12px;\n",
              "    }\n",
              "\n",
              "    .colab-df-convert {\n",
              "      background-color: #E8F0FE;\n",
              "      border: none;\n",
              "      border-radius: 50%;\n",
              "      cursor: pointer;\n",
              "      display: none;\n",
              "      fill: #1967D2;\n",
              "      height: 32px;\n",
              "      padding: 0 0 0 0;\n",
              "      width: 32px;\n",
              "    }\n",
              "\n",
              "    .colab-df-convert:hover {\n",
              "      background-color: #E2EBFA;\n",
              "      box-shadow: 0px 1px 2px rgba(60, 64, 67, 0.3), 0px 1px 3px 1px rgba(60, 64, 67, 0.15);\n",
              "      fill: #174EA6;\n",
              "    }\n",
              "\n",
              "    [theme=dark] .colab-df-convert {\n",
              "      background-color: #3B4455;\n",
              "      fill: #D2E3FC;\n",
              "    }\n",
              "\n",
              "    [theme=dark] .colab-df-convert:hover {\n",
              "      background-color: #434B5C;\n",
              "      box-shadow: 0px 1px 3px 1px rgba(0, 0, 0, 0.15);\n",
              "      filter: drop-shadow(0px 1px 2px rgba(0, 0, 0, 0.3));\n",
              "      fill: #FFFFFF;\n",
              "    }\n",
              "  </style>\n",
              "\n",
              "      <script>\n",
              "        const buttonEl =\n",
              "          document.querySelector('#df-27e71ccc-2189-4293-af58-7357df39055d button.colab-df-convert');\n",
              "        buttonEl.style.display =\n",
              "          google.colab.kernel.accessAllowed ? 'block' : 'none';\n",
              "\n",
              "        async function convertToInteractive(key) {\n",
              "          const element = document.querySelector('#df-27e71ccc-2189-4293-af58-7357df39055d');\n",
              "          const dataTable =\n",
              "            await google.colab.kernel.invokeFunction('convertToInteractive',\n",
              "                                                     [key], {});\n",
              "          if (!dataTable) return;\n",
              "\n",
              "          const docLinkHtml = 'Like what you see? Visit the ' +\n",
              "            '<a target=\"_blank\" href=https://colab.research.google.com/notebooks/data_table.ipynb>data table notebook</a>'\n",
              "            + ' to learn more about interactive tables.';\n",
              "          element.innerHTML = '';\n",
              "          dataTable['output_type'] = 'display_data';\n",
              "          await google.colab.output.renderOutput(dataTable, element);\n",
              "          const docLink = document.createElement('div');\n",
              "          docLink.innerHTML = docLinkHtml;\n",
              "          element.appendChild(docLink);\n",
              "        }\n",
              "      </script>\n",
              "    </div>\n",
              "  </div>\n",
              "  "
            ]
          },
          "metadata": {},
          "execution_count": 4
        }
      ]
    },
    {
      "cell_type": "markdown",
      "source": [
        "#### Descripción general de las variables\n",
        "\n",
        "#### Lo que se aprecia al ver una primera descripción (aunque se necesitará revisar de manera individual cada variable):\n",
        "\n",
        "1. Tenemos un *dataframe* con 29,984 filas\n",
        "\n",
        "1.   X3 (Educación) tiene más valores a los que se describe en la información de atributos (1-4)\n",
        "\n",
        "4. X4 (Estatus marital) tiene más valores a los que se describe en la información de atributos (1-3)\n",
        "\n",
        "1.   X12-X17 (Importes de estado de cuenta) presentan datos negativos por lo que se interpretaría que hay clientes con sobrepago\n",
        "\n"
      ],
      "metadata": {
        "id": "UoKM3REB6oSd"
      }
    },
    {
      "cell_type": "markdown",
      "source": [
        "Método *.describe()* en Pandas\n",
        "\n",
        "https://pandas.pydata.org/docs/reference/api/pandas.DataFrame.describe.html"
      ],
      "metadata": {
        "id": "XZqUdWoEL5TY"
      }
    },
    {
      "cell_type": "code",
      "source": [
        "df.describe().round(1)"
      ],
      "metadata": {
        "colab": {
          "base_uri": "https://localhost:8080/",
          "height": 364
        },
        "id": "u8_yyNLw40Na",
        "outputId": "91d5f9ce-5f9d-4279-a8bf-e45cb55388d9"
      },
      "execution_count": 5,
      "outputs": [
        {
          "output_type": "execute_result",
          "data": {
            "text/plain": [
              "            ID         X1       X2       X3       X4       X5       X6  \\\n",
              "count  30000.0    30000.0  29999.0  29998.0  29998.0  29995.0  29997.0   \n",
              "mean   15000.5   167484.3      1.6      1.9      1.6     35.5     -0.0   \n",
              "std     8660.4   129747.7      0.5      0.8      0.5      9.2      1.1   \n",
              "min        1.0    10000.0      1.0      0.0      0.0     21.0     -2.0   \n",
              "25%     7500.8    50000.0      1.0      1.0      1.0     28.0     -1.0   \n",
              "50%    15000.5   140000.0      2.0      2.0      2.0     34.0      0.0   \n",
              "75%    22500.2   240000.0      2.0      2.0      2.0     41.0      0.0   \n",
              "max    30000.0  1000000.0      2.0      6.0      3.0     79.0      8.0   \n",
              "\n",
              "            X7       X8       X9      X10      X11       X12       X13  \\\n",
              "count  29995.0  29993.0  29991.0  29984.0  29986.0   29989.0   29989.0   \n",
              "mean      -0.1     -0.2     -0.2     -0.3     -0.3   51236.9   49190.7   \n",
              "std        1.2      1.2      1.2      1.1      1.2   73645.2   71183.4   \n",
              "min       -2.0     -2.0     -2.0     -2.0     -2.0 -165580.0  -69777.0   \n",
              "25%       -1.0     -1.0     -1.0     -1.0     -1.0    3565.0    2986.0   \n",
              "50%        0.0      0.0      0.0      0.0      0.0   22387.0   21207.0   \n",
              "75%        0.0      0.0      0.0      0.0      0.0   67139.0   64027.0   \n",
              "max        8.0      8.0      8.0      8.0      8.0  964511.0  983931.0   \n",
              "\n",
              "             X14       X15       X16       X17       X18        X19       X20  \\\n",
              "count    29987.0   29985.0   29983.0   29990.0   29992.0    29991.0   29992.0   \n",
              "mean     47025.4   43275.7   40324.5   38881.1    5662.9     5922.5    5225.6   \n",
              "std      69360.9   64345.5   60810.0   59561.3   16564.2    23044.2   17608.4   \n",
              "min    -157264.0 -170000.0  -81334.0 -339603.0       0.0        0.0       0.0   \n",
              "25%       2667.5    2329.0    1763.5    1256.2    1000.0      835.5     390.0   \n",
              "50%      20089.0   19052.0   18107.0   17081.0    2100.0     2009.0    1800.0   \n",
              "75%      60182.0   54560.0   50213.0   49208.2    5006.0     5000.0    4505.5   \n",
              "max    1664089.0  891586.0  927171.0  961664.0  873552.0  1684259.0  896040.0   \n",
              "\n",
              "            X21       X22       X23        Y  \n",
              "count   29989.0   29989.0   29995.0  29997.0  \n",
              "mean     4827.3    4800.3    5216.3      0.2  \n",
              "std     15668.8   15280.8   17778.8      0.4  \n",
              "min         0.0       0.0       0.0      0.0  \n",
              "25%       296.0     251.0     118.0      0.0  \n",
              "50%      1500.0    1500.0    1500.0      0.0  \n",
              "75%      4014.0    4033.0    4000.0      0.0  \n",
              "max    621000.0  426529.0  528666.0      1.0  "
            ],
            "text/html": [
              "\n",
              "  <div id=\"df-927a3a01-e047-4fa5-9acf-19309007715b\">\n",
              "    <div class=\"colab-df-container\">\n",
              "      <div>\n",
              "<style scoped>\n",
              "    .dataframe tbody tr th:only-of-type {\n",
              "        vertical-align: middle;\n",
              "    }\n",
              "\n",
              "    .dataframe tbody tr th {\n",
              "        vertical-align: top;\n",
              "    }\n",
              "\n",
              "    .dataframe thead th {\n",
              "        text-align: right;\n",
              "    }\n",
              "</style>\n",
              "<table border=\"1\" class=\"dataframe\">\n",
              "  <thead>\n",
              "    <tr style=\"text-align: right;\">\n",
              "      <th></th>\n",
              "      <th>ID</th>\n",
              "      <th>X1</th>\n",
              "      <th>X2</th>\n",
              "      <th>X3</th>\n",
              "      <th>X4</th>\n",
              "      <th>X5</th>\n",
              "      <th>X6</th>\n",
              "      <th>X7</th>\n",
              "      <th>X8</th>\n",
              "      <th>X9</th>\n",
              "      <th>X10</th>\n",
              "      <th>X11</th>\n",
              "      <th>X12</th>\n",
              "      <th>X13</th>\n",
              "      <th>X14</th>\n",
              "      <th>X15</th>\n",
              "      <th>X16</th>\n",
              "      <th>X17</th>\n",
              "      <th>X18</th>\n",
              "      <th>X19</th>\n",
              "      <th>X20</th>\n",
              "      <th>X21</th>\n",
              "      <th>X22</th>\n",
              "      <th>X23</th>\n",
              "      <th>Y</th>\n",
              "    </tr>\n",
              "  </thead>\n",
              "  <tbody>\n",
              "    <tr>\n",
              "      <th>count</th>\n",
              "      <td>30000.0</td>\n",
              "      <td>30000.0</td>\n",
              "      <td>29999.0</td>\n",
              "      <td>29998.0</td>\n",
              "      <td>29998.0</td>\n",
              "      <td>29995.0</td>\n",
              "      <td>29997.0</td>\n",
              "      <td>29995.0</td>\n",
              "      <td>29993.0</td>\n",
              "      <td>29991.0</td>\n",
              "      <td>29984.0</td>\n",
              "      <td>29986.0</td>\n",
              "      <td>29989.0</td>\n",
              "      <td>29989.0</td>\n",
              "      <td>29987.0</td>\n",
              "      <td>29985.0</td>\n",
              "      <td>29983.0</td>\n",
              "      <td>29990.0</td>\n",
              "      <td>29992.0</td>\n",
              "      <td>29991.0</td>\n",
              "      <td>29992.0</td>\n",
              "      <td>29989.0</td>\n",
              "      <td>29989.0</td>\n",
              "      <td>29995.0</td>\n",
              "      <td>29997.0</td>\n",
              "    </tr>\n",
              "    <tr>\n",
              "      <th>mean</th>\n",
              "      <td>15000.5</td>\n",
              "      <td>167484.3</td>\n",
              "      <td>1.6</td>\n",
              "      <td>1.9</td>\n",
              "      <td>1.6</td>\n",
              "      <td>35.5</td>\n",
              "      <td>-0.0</td>\n",
              "      <td>-0.1</td>\n",
              "      <td>-0.2</td>\n",
              "      <td>-0.2</td>\n",
              "      <td>-0.3</td>\n",
              "      <td>-0.3</td>\n",
              "      <td>51236.9</td>\n",
              "      <td>49190.7</td>\n",
              "      <td>47025.4</td>\n",
              "      <td>43275.7</td>\n",
              "      <td>40324.5</td>\n",
              "      <td>38881.1</td>\n",
              "      <td>5662.9</td>\n",
              "      <td>5922.5</td>\n",
              "      <td>5225.6</td>\n",
              "      <td>4827.3</td>\n",
              "      <td>4800.3</td>\n",
              "      <td>5216.3</td>\n",
              "      <td>0.2</td>\n",
              "    </tr>\n",
              "    <tr>\n",
              "      <th>std</th>\n",
              "      <td>8660.4</td>\n",
              "      <td>129747.7</td>\n",
              "      <td>0.5</td>\n",
              "      <td>0.8</td>\n",
              "      <td>0.5</td>\n",
              "      <td>9.2</td>\n",
              "      <td>1.1</td>\n",
              "      <td>1.2</td>\n",
              "      <td>1.2</td>\n",
              "      <td>1.2</td>\n",
              "      <td>1.1</td>\n",
              "      <td>1.2</td>\n",
              "      <td>73645.2</td>\n",
              "      <td>71183.4</td>\n",
              "      <td>69360.9</td>\n",
              "      <td>64345.5</td>\n",
              "      <td>60810.0</td>\n",
              "      <td>59561.3</td>\n",
              "      <td>16564.2</td>\n",
              "      <td>23044.2</td>\n",
              "      <td>17608.4</td>\n",
              "      <td>15668.8</td>\n",
              "      <td>15280.8</td>\n",
              "      <td>17778.8</td>\n",
              "      <td>0.4</td>\n",
              "    </tr>\n",
              "    <tr>\n",
              "      <th>min</th>\n",
              "      <td>1.0</td>\n",
              "      <td>10000.0</td>\n",
              "      <td>1.0</td>\n",
              "      <td>0.0</td>\n",
              "      <td>0.0</td>\n",
              "      <td>21.0</td>\n",
              "      <td>-2.0</td>\n",
              "      <td>-2.0</td>\n",
              "      <td>-2.0</td>\n",
              "      <td>-2.0</td>\n",
              "      <td>-2.0</td>\n",
              "      <td>-2.0</td>\n",
              "      <td>-165580.0</td>\n",
              "      <td>-69777.0</td>\n",
              "      <td>-157264.0</td>\n",
              "      <td>-170000.0</td>\n",
              "      <td>-81334.0</td>\n",
              "      <td>-339603.0</td>\n",
              "      <td>0.0</td>\n",
              "      <td>0.0</td>\n",
              "      <td>0.0</td>\n",
              "      <td>0.0</td>\n",
              "      <td>0.0</td>\n",
              "      <td>0.0</td>\n",
              "      <td>0.0</td>\n",
              "    </tr>\n",
              "    <tr>\n",
              "      <th>25%</th>\n",
              "      <td>7500.8</td>\n",
              "      <td>50000.0</td>\n",
              "      <td>1.0</td>\n",
              "      <td>1.0</td>\n",
              "      <td>1.0</td>\n",
              "      <td>28.0</td>\n",
              "      <td>-1.0</td>\n",
              "      <td>-1.0</td>\n",
              "      <td>-1.0</td>\n",
              "      <td>-1.0</td>\n",
              "      <td>-1.0</td>\n",
              "      <td>-1.0</td>\n",
              "      <td>3565.0</td>\n",
              "      <td>2986.0</td>\n",
              "      <td>2667.5</td>\n",
              "      <td>2329.0</td>\n",
              "      <td>1763.5</td>\n",
              "      <td>1256.2</td>\n",
              "      <td>1000.0</td>\n",
              "      <td>835.5</td>\n",
              "      <td>390.0</td>\n",
              "      <td>296.0</td>\n",
              "      <td>251.0</td>\n",
              "      <td>118.0</td>\n",
              "      <td>0.0</td>\n",
              "    </tr>\n",
              "    <tr>\n",
              "      <th>50%</th>\n",
              "      <td>15000.5</td>\n",
              "      <td>140000.0</td>\n",
              "      <td>2.0</td>\n",
              "      <td>2.0</td>\n",
              "      <td>2.0</td>\n",
              "      <td>34.0</td>\n",
              "      <td>0.0</td>\n",
              "      <td>0.0</td>\n",
              "      <td>0.0</td>\n",
              "      <td>0.0</td>\n",
              "      <td>0.0</td>\n",
              "      <td>0.0</td>\n",
              "      <td>22387.0</td>\n",
              "      <td>21207.0</td>\n",
              "      <td>20089.0</td>\n",
              "      <td>19052.0</td>\n",
              "      <td>18107.0</td>\n",
              "      <td>17081.0</td>\n",
              "      <td>2100.0</td>\n",
              "      <td>2009.0</td>\n",
              "      <td>1800.0</td>\n",
              "      <td>1500.0</td>\n",
              "      <td>1500.0</td>\n",
              "      <td>1500.0</td>\n",
              "      <td>0.0</td>\n",
              "    </tr>\n",
              "    <tr>\n",
              "      <th>75%</th>\n",
              "      <td>22500.2</td>\n",
              "      <td>240000.0</td>\n",
              "      <td>2.0</td>\n",
              "      <td>2.0</td>\n",
              "      <td>2.0</td>\n",
              "      <td>41.0</td>\n",
              "      <td>0.0</td>\n",
              "      <td>0.0</td>\n",
              "      <td>0.0</td>\n",
              "      <td>0.0</td>\n",
              "      <td>0.0</td>\n",
              "      <td>0.0</td>\n",
              "      <td>67139.0</td>\n",
              "      <td>64027.0</td>\n",
              "      <td>60182.0</td>\n",
              "      <td>54560.0</td>\n",
              "      <td>50213.0</td>\n",
              "      <td>49208.2</td>\n",
              "      <td>5006.0</td>\n",
              "      <td>5000.0</td>\n",
              "      <td>4505.5</td>\n",
              "      <td>4014.0</td>\n",
              "      <td>4033.0</td>\n",
              "      <td>4000.0</td>\n",
              "      <td>0.0</td>\n",
              "    </tr>\n",
              "    <tr>\n",
              "      <th>max</th>\n",
              "      <td>30000.0</td>\n",
              "      <td>1000000.0</td>\n",
              "      <td>2.0</td>\n",
              "      <td>6.0</td>\n",
              "      <td>3.0</td>\n",
              "      <td>79.0</td>\n",
              "      <td>8.0</td>\n",
              "      <td>8.0</td>\n",
              "      <td>8.0</td>\n",
              "      <td>8.0</td>\n",
              "      <td>8.0</td>\n",
              "      <td>8.0</td>\n",
              "      <td>964511.0</td>\n",
              "      <td>983931.0</td>\n",
              "      <td>1664089.0</td>\n",
              "      <td>891586.0</td>\n",
              "      <td>927171.0</td>\n",
              "      <td>961664.0</td>\n",
              "      <td>873552.0</td>\n",
              "      <td>1684259.0</td>\n",
              "      <td>896040.0</td>\n",
              "      <td>621000.0</td>\n",
              "      <td>426529.0</td>\n",
              "      <td>528666.0</td>\n",
              "      <td>1.0</td>\n",
              "    </tr>\n",
              "  </tbody>\n",
              "</table>\n",
              "</div>\n",
              "      <button class=\"colab-df-convert\" onclick=\"convertToInteractive('df-927a3a01-e047-4fa5-9acf-19309007715b')\"\n",
              "              title=\"Convert this dataframe to an interactive table.\"\n",
              "              style=\"display:none;\">\n",
              "        \n",
              "  <svg xmlns=\"http://www.w3.org/2000/svg\" height=\"24px\"viewBox=\"0 0 24 24\"\n",
              "       width=\"24px\">\n",
              "    <path d=\"M0 0h24v24H0V0z\" fill=\"none\"/>\n",
              "    <path d=\"M18.56 5.44l.94 2.06.94-2.06 2.06-.94-2.06-.94-.94-2.06-.94 2.06-2.06.94zm-11 1L8.5 8.5l.94-2.06 2.06-.94-2.06-.94L8.5 2.5l-.94 2.06-2.06.94zm10 10l.94 2.06.94-2.06 2.06-.94-2.06-.94-.94-2.06-.94 2.06-2.06.94z\"/><path d=\"M17.41 7.96l-1.37-1.37c-.4-.4-.92-.59-1.43-.59-.52 0-1.04.2-1.43.59L10.3 9.45l-7.72 7.72c-.78.78-.78 2.05 0 2.83L4 21.41c.39.39.9.59 1.41.59.51 0 1.02-.2 1.41-.59l7.78-7.78 2.81-2.81c.8-.78.8-2.07 0-2.86zM5.41 20L4 18.59l7.72-7.72 1.47 1.35L5.41 20z\"/>\n",
              "  </svg>\n",
              "      </button>\n",
              "      \n",
              "  <style>\n",
              "    .colab-df-container {\n",
              "      display:flex;\n",
              "      flex-wrap:wrap;\n",
              "      gap: 12px;\n",
              "    }\n",
              "\n",
              "    .colab-df-convert {\n",
              "      background-color: #E8F0FE;\n",
              "      border: none;\n",
              "      border-radius: 50%;\n",
              "      cursor: pointer;\n",
              "      display: none;\n",
              "      fill: #1967D2;\n",
              "      height: 32px;\n",
              "      padding: 0 0 0 0;\n",
              "      width: 32px;\n",
              "    }\n",
              "\n",
              "    .colab-df-convert:hover {\n",
              "      background-color: #E2EBFA;\n",
              "      box-shadow: 0px 1px 2px rgba(60, 64, 67, 0.3), 0px 1px 3px 1px rgba(60, 64, 67, 0.15);\n",
              "      fill: #174EA6;\n",
              "    }\n",
              "\n",
              "    [theme=dark] .colab-df-convert {\n",
              "      background-color: #3B4455;\n",
              "      fill: #D2E3FC;\n",
              "    }\n",
              "\n",
              "    [theme=dark] .colab-df-convert:hover {\n",
              "      background-color: #434B5C;\n",
              "      box-shadow: 0px 1px 3px 1px rgba(0, 0, 0, 0.15);\n",
              "      filter: drop-shadow(0px 1px 2px rgba(0, 0, 0, 0.3));\n",
              "      fill: #FFFFFF;\n",
              "    }\n",
              "  </style>\n",
              "\n",
              "      <script>\n",
              "        const buttonEl =\n",
              "          document.querySelector('#df-927a3a01-e047-4fa5-9acf-19309007715b button.colab-df-convert');\n",
              "        buttonEl.style.display =\n",
              "          google.colab.kernel.accessAllowed ? 'block' : 'none';\n",
              "\n",
              "        async function convertToInteractive(key) {\n",
              "          const element = document.querySelector('#df-927a3a01-e047-4fa5-9acf-19309007715b');\n",
              "          const dataTable =\n",
              "            await google.colab.kernel.invokeFunction('convertToInteractive',\n",
              "                                                     [key], {});\n",
              "          if (!dataTable) return;\n",
              "\n",
              "          const docLinkHtml = 'Like what you see? Visit the ' +\n",
              "            '<a target=\"_blank\" href=https://colab.research.google.com/notebooks/data_table.ipynb>data table notebook</a>'\n",
              "            + ' to learn more about interactive tables.';\n",
              "          element.innerHTML = '';\n",
              "          dataTable['output_type'] = 'display_data';\n",
              "          await google.colab.output.renderOutput(dataTable, element);\n",
              "          const docLink = document.createElement('div');\n",
              "          docLink.innerHTML = docLinkHtml;\n",
              "          element.appendChild(docLink);\n",
              "        }\n",
              "      </script>\n",
              "    </div>\n",
              "  </div>\n",
              "  "
            ]
          },
          "metadata": {},
          "execution_count": 5
        }
      ]
    },
    {
      "cell_type": "markdown",
      "source": [
        "#### Exploración de *missing values*\n",
        "#### Dado que tenemos 29,986 filas podemos eliminar los *missing values* o bien podemos imputar alguna medida como la media, mediana o moda sin afectar en un momento el desempeño de cualquier modelo que realicemos posteriormente, ya que son pocos los datos faltantes"
      ],
      "metadata": {
        "id": "J4WFt5TX_XgK"
      }
    },
    {
      "cell_type": "markdown",
      "source": [
        "Método *.isnull()* en Pandas\n",
        "\n",
        "https://pandas.pydata.org/docs/reference/api/pandas.isnull.html"
      ],
      "metadata": {
        "id": "2POyQcQRMFKs"
      }
    },
    {
      "cell_type": "code",
      "source": [
        "df.isnull().sum()"
      ],
      "metadata": {
        "colab": {
          "base_uri": "https://localhost:8080/"
        },
        "id": "8Pl-LY6h6fW1",
        "outputId": "5c73ac66-fa12-4a25-f3d6-0095702eded7"
      },
      "execution_count": 6,
      "outputs": [
        {
          "output_type": "execute_result",
          "data": {
            "text/plain": [
              "ID      0\n",
              "X1      0\n",
              "X2      1\n",
              "X3      2\n",
              "X4      2\n",
              "X5      5\n",
              "X6      3\n",
              "X7      5\n",
              "X8      7\n",
              "X9      9\n",
              "X10    16\n",
              "X11    14\n",
              "X12    11\n",
              "X13    11\n",
              "X14    13\n",
              "X15    15\n",
              "X16    17\n",
              "X17    10\n",
              "X18     8\n",
              "X19     9\n",
              "X20     8\n",
              "X21    11\n",
              "X22    11\n",
              "X23     5\n",
              "Y       3\n",
              "dtype: int64"
            ]
          },
          "metadata": {},
          "execution_count": 6
        }
      ]
    },
    {
      "cell_type": "markdown",
      "source": [
        "#### Hay que observar que de la variable X6 a la X11 tenemos el comportamiento de pago por lo que si bien podríamos imputar la moda no tendríamos el comportamiento real de esos clientes y la imputación no resultaría del todo correcta.\n",
        "\n",
        "#### Las variables de X12 a la X23 se refieren a los montos de pago de manera histórica de cada cliente por lo que están relacionadas con las variables X6 a X11, con lo que imputar una media a los datos faltantes no sería correcto.\n",
        "\n",
        "#### Dado lo anterior se eliminarán esas filas."
      ],
      "metadata": {
        "id": "ztbp6RHD2wbv"
      }
    },
    {
      "cell_type": "markdown",
      "source": [
        "Método *.dropna()* en Pandas\n",
        "\n",
        "https://pandas.pydata.org/docs/reference/api/pandas.DataFrame.dropna.html"
      ],
      "metadata": {
        "id": "DIxIc-dBMaXX"
      }
    },
    {
      "cell_type": "code",
      "source": [
        "cols = df.columns[6:-1]\n",
        "\n",
        "df.dropna(subset = cols, inplace = True)"
      ],
      "metadata": {
        "id": "TtWJQ8P42vWe"
      },
      "execution_count": 7,
      "outputs": []
    },
    {
      "cell_type": "markdown",
      "source": [
        "#### Volvemos a verificar si aún tenemos datos nulos por lo que observamos que en la variable X5 (Edad) tenemos algunos datos nulos, ante lo cual imputaremos la media"
      ],
      "metadata": {
        "id": "TFA7zfCA9jLb"
      }
    },
    {
      "cell_type": "code",
      "source": [
        "df.isnull().sum()"
      ],
      "metadata": {
        "colab": {
          "base_uri": "https://localhost:8080/"
        },
        "id": "fXTUy_Z78slj",
        "outputId": "366ab713-c95c-4984-dc00-dd07413ef008"
      },
      "execution_count": 8,
      "outputs": [
        {
          "output_type": "execute_result",
          "data": {
            "text/plain": [
              "ID     0\n",
              "X1     0\n",
              "X2     0\n",
              "X3     0\n",
              "X4     0\n",
              "X5     3\n",
              "X6     0\n",
              "X7     0\n",
              "X8     0\n",
              "X9     0\n",
              "X10    0\n",
              "X11    0\n",
              "X12    0\n",
              "X13    0\n",
              "X14    0\n",
              "X15    0\n",
              "X16    0\n",
              "X17    0\n",
              "X18    0\n",
              "X19    0\n",
              "X20    0\n",
              "X21    0\n",
              "X22    0\n",
              "X23    0\n",
              "Y      0\n",
              "dtype: int64"
            ]
          },
          "metadata": {},
          "execution_count": 8
        }
      ]
    },
    {
      "cell_type": "markdown",
      "source": [
        "#### **X5 (Edad)**: se utilizará la media para cubrir los datos faltantes"
      ],
      "metadata": {
        "id": "etaPZWVJ-jBb"
      }
    },
    {
      "cell_type": "code",
      "source": [
        "x5_mean = df['X5'].mean()"
      ],
      "metadata": {
        "id": "GrJkQJyC-jBc"
      },
      "execution_count": 9,
      "outputs": []
    },
    {
      "cell_type": "markdown",
      "source": [
        "Método *.fillna()* en Pandas\n",
        "\n",
        "https://pandas.pydata.org/docs/reference/api/pandas.DataFrame.fillna.html"
      ],
      "metadata": {
        "id": "4-MuUdFAMpY_"
      }
    },
    {
      "cell_type": "code",
      "source": [
        "df['X5'] = df['X5'].fillna(x5_mean) "
      ],
      "metadata": {
        "id": "hFsTeQn2-jBc"
      },
      "execution_count": 10,
      "outputs": []
    },
    {
      "cell_type": "markdown",
      "source": [
        "### Se revisarán las variables X2 a X4 para ver si cumplen con las características establecidas en la descripción de atributos"
      ],
      "metadata": {
        "id": "SMc-yAh96oDx"
      }
    },
    {
      "cell_type": "markdown",
      "source": [
        "#### **X2 (Género)**"
      ],
      "metadata": {
        "id": "hDVlm_QT70CL"
      }
    },
    {
      "cell_type": "code",
      "source": [
        "df['X2'].unique()"
      ],
      "metadata": {
        "colab": {
          "base_uri": "https://localhost:8080/"
        },
        "id": "8_OtoDTaAlDI",
        "outputId": "d4c579eb-bce9-43ed-f3ce-96c7734793fa"
      },
      "execution_count": 11,
      "outputs": [
        {
          "output_type": "execute_result",
          "data": {
            "text/plain": [
              "array([2., 1.])"
            ]
          },
          "metadata": {},
          "execution_count": 11
        }
      ]
    },
    {
      "cell_type": "markdown",
      "source": [
        "#### **X3 (Educación)**: los valores tendrían que estar entre 1 y 4, como observamos a continuación hay valores iguales a **0**, **5** y **6** los cuales serán remplazados con la moda"
      ],
      "metadata": {
        "id": "JaYNMPMy8tx1"
      }
    },
    {
      "cell_type": "code",
      "source": [
        "df['X3'].unique()"
      ],
      "metadata": {
        "colab": {
          "base_uri": "https://localhost:8080/"
        },
        "id": "ecxuL_siA5Gg",
        "outputId": "8d5e4356-1425-4e43-ddb8-bfc05064af5a"
      },
      "execution_count": 12,
      "outputs": [
        {
          "output_type": "execute_result",
          "data": {
            "text/plain": [
              "array([2., 1., 3., 5., 4., 6., 0.])"
            ]
          },
          "metadata": {},
          "execution_count": 12
        }
      ]
    },
    {
      "cell_type": "code",
      "source": [
        "df.groupby('X3')['ID'].count()"
      ],
      "metadata": {
        "colab": {
          "base_uri": "https://localhost:8080/"
        },
        "id": "uEDtGGWw8iaE",
        "outputId": "871a7872-b6c2-4bbb-8e74-fb03299d203e"
      },
      "execution_count": 13,
      "outputs": [
        {
          "output_type": "execute_result",
          "data": {
            "text/plain": [
              "X3\n",
              "0.0       14\n",
              "1.0    10574\n",
              "2.0    14010\n",
              "3.0     4909\n",
              "4.0      123\n",
              "5.0      280\n",
              "6.0       51\n",
              "Name: ID, dtype: int64"
            ]
          },
          "metadata": {},
          "execution_count": 13
        }
      ]
    },
    {
      "cell_type": "code",
      "source": [
        "x3_mode = int(df['X3'].mode())"
      ],
      "metadata": {
        "id": "1jC3eV5O8idK"
      },
      "execution_count": 14,
      "outputs": []
    },
    {
      "cell_type": "code",
      "source": [
        "df['X3'] = df['X3'].astype(int)"
      ],
      "metadata": {
        "id": "51rZ9o1UBFKK"
      },
      "execution_count": 15,
      "outputs": []
    },
    {
      "cell_type": "code",
      "source": [
        "df['X3'] = df['X3'].map({0: x3_mode, 1: 1, 2: 2, 3: 3, 4: 4, 5: x3_mode, 6: x3_mode})"
      ],
      "metadata": {
        "id": "HF6U_GWz8igz"
      },
      "execution_count": 16,
      "outputs": []
    },
    {
      "cell_type": "code",
      "source": [
        "df['X3'].unique()"
      ],
      "metadata": {
        "id": "aWvA-GZh4vUF",
        "colab": {
          "base_uri": "https://localhost:8080/"
        },
        "outputId": "79fb352d-3fe5-4396-e8cb-1512340bdbdf"
      },
      "execution_count": 17,
      "outputs": [
        {
          "output_type": "execute_result",
          "data": {
            "text/plain": [
              "array([2, 1, 3, 4])"
            ]
          },
          "metadata": {},
          "execution_count": 17
        }
      ]
    },
    {
      "cell_type": "markdown",
      "source": [
        "#### **X4 (Estatus marital)**: Se tienen valores distintos a los definidos en los atributos, hay valores iguales a **0**, estos valores se reemplazarán con la moda"
      ],
      "metadata": {
        "id": "OourLzGCLMqK"
      }
    },
    {
      "cell_type": "code",
      "source": [
        "df['X4'].unique()"
      ],
      "metadata": {
        "id": "LcArLYrf4pi-",
        "colab": {
          "base_uri": "https://localhost:8080/"
        },
        "outputId": "e39a4e23-0bfc-4372-cf96-4d2edcb1b7b0"
      },
      "execution_count": 18,
      "outputs": [
        {
          "output_type": "execute_result",
          "data": {
            "text/plain": [
              "array([1., 2., 3., 0.])"
            ]
          },
          "metadata": {},
          "execution_count": 18
        }
      ]
    },
    {
      "cell_type": "code",
      "source": [
        "df.groupby('X4')['ID'].count()"
      ],
      "metadata": {
        "colab": {
          "base_uri": "https://localhost:8080/"
        },
        "id": "KsWH5bCru4lN",
        "outputId": "93642cd9-96e2-440f-9d86-d18f01b07376"
      },
      "execution_count": 19,
      "outputs": [
        {
          "output_type": "execute_result",
          "data": {
            "text/plain": [
              "X4\n",
              "0.0       54\n",
              "1.0    13644\n",
              "2.0    15940\n",
              "3.0      323\n",
              "Name: ID, dtype: int64"
            ]
          },
          "metadata": {},
          "execution_count": 19
        }
      ]
    },
    {
      "cell_type": "code",
      "source": [
        "x4_mode = int(df['X4'].mode())"
      ],
      "metadata": {
        "id": "ao3nwiKyv1ro"
      },
      "execution_count": 20,
      "outputs": []
    },
    {
      "cell_type": "code",
      "source": [
        "df['X4'] = df['X4'].astype(int)"
      ],
      "metadata": {
        "id": "bIDxBQckv1sD"
      },
      "execution_count": 21,
      "outputs": []
    },
    {
      "cell_type": "code",
      "source": [
        "df['X4'] = df['X4'].map({0: x4_mode, 1: 1, 2: 2, 3: 3})"
      ],
      "metadata": {
        "id": "u19e4AHEv1sE"
      },
      "execution_count": 22,
      "outputs": []
    },
    {
      "cell_type": "code",
      "source": [
        "df['X4'].unique()"
      ],
      "metadata": {
        "colab": {
          "base_uri": "https://localhost:8080/"
        },
        "outputId": "29da443c-1a89-4d0e-e4cb-3427dbfbb566",
        "id": "LCmgCYApv1sE"
      },
      "execution_count": 23,
      "outputs": [
        {
          "output_type": "execute_result",
          "data": {
            "text/plain": [
              "array([1, 2, 3])"
            ]
          },
          "metadata": {},
          "execution_count": 23
        }
      ]
    },
    {
      "cell_type": "markdown",
      "source": [
        "# **Parte 3 - Preparación de los datos**"
      ],
      "metadata": {
        "id": "IK9KO2n3EBCL"
      }
    },
    {
      "cell_type": "markdown",
      "source": [
        "#### **1. ¿Qué datos considero mas importantes? ¿Por qué?**\n",
        "\n",
        "Los datos de comportamiento de pago, dado que están relacionados entre ellos no se deberían tratar con simples imputaciones de media, mediana y moda."
      ],
      "metadata": {
        "id": "85TU6AsZEKfv"
      }
    },
    {
      "cell_type": "markdown",
      "source": [
        "#### **2. ¿Se eliminaron o reemplazaron datos nulos? ¿Qué se hizo y por qué?**\n",
        "\n",
        "Por una parte se eliminaron datos de las variables X6 a X23 dado que eran variables de comportamiento de pago. Se eliminaron dado que el número de *missing values* no es grande en la base de datos.\n",
        "\n",
        "También se reemplazaron valores de la variable X3 a la X5, se ocupo la moda en X3 y X4, por otra parte la media en X5. Lo anterior en base a la descripción de atributos de la base de datos, por lo que se reemplazaron para que tuvieran el comportamiento deseado."
      ],
      "metadata": {
        "id": "MeY6ulIiEKqh"
      }
    },
    {
      "cell_type": "markdown",
      "source": [
        "#### **3. ¿Es necesario limpiar los datos para el análisis? Sí / No / ¿Por qué?**\n",
        "\n",
        "Sí, ya que la limpieza es un paso previo a modelar datos, es importante hacerlo por una parte porqué los modelos de Machine Learning no aceptan valores nulos y por otra parte para mejorar el desempeño del modelo que se realizará, es decir, para que en el caso que se haga una predicción, segmentación, etc. se pueda tomar una mejor decisión a partir de los resultados."
      ],
      "metadata": {
        "id": "7JwUIappEKz3"
      }
    },
    {
      "cell_type": "markdown",
      "source": [
        "#### **4. ¿Existen problemas de formato que deban solucionar antes del proceso de modelado? Sí / No / Por qué.**\n",
        "\n",
        "En la base de datos tenemos dos grupos de datos, por una parte variables categóricas (X2-X4, X6-X11) y variables numéricas (X5, X12-X23), por lo que en el caso de las variables categóricas deberían quedar como enteros y no como flotantes. "
      ],
      "metadata": {
        "id": "T4ZabPWHEK8d"
      }
    },
    {
      "cell_type": "markdown",
      "source": [
        "#### **5. ¿Qué ajustes se realizaron en el proceso de limpieza de datos (agregar, integrar, eliminar, modificar registros (filas), cambiar atributos (columnas)?**\n",
        "\n",
        "Los ajustes que se realizaron fueron:\n",
        "\n",
        "1. Quitar filas en el caso de atributos que no sería del todo correcto simplemente imputar alguna medida.\n",
        "\n",
        "2. Reemplezar valores que salen fuera de las definiciones dadas en la descripción de los atributos."
      ],
      "metadata": {
        "id": "RYTPXjsBELE1"
      }
    }
  ]
}