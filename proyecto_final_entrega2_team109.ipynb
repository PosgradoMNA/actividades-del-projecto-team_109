{
  "nbformat": 4,
  "nbformat_minor": 0,
  "metadata": {
    "colab": {
      "provenance": [],
      "authorship_tag": "ABX9TyNvjP0Tl4JIp3ziqqXnSwjy",
      "include_colab_link": true
    },
    "kernelspec": {
      "name": "python3",
      "display_name": "Python 3"
    },
    "language_info": {
      "name": "python"
    }
  },
  "cells": [
    {
      "cell_type": "markdown",
      "metadata": {
        "id": "view-in-github",
        "colab_type": "text"
      },
      "source": [
        "<a href=\"https://colab.research.google.com/github/PosgradoMNA/actividades-del-projecto-team_109/blob/main/proyecto_final_entrega2_team109.ipynb\" target=\"_parent\"><img src=\"https://colab.research.google.com/assets/colab-badge.svg\" alt=\"Open In Colab\"/></a>"
      ]
    },
    {
      "cell_type": "markdown",
      "source": [
        "## **Maestría en Inteligencia Artificial Aplicada**\n",
        "## Proyecto Final **Aguas Subterraneas** - Entrega 2\n",
        "#### <BR>\n",
        "### **A01794067 - Jose Antonio Mendoza Castro**\n",
        "### **A00642541 - Miguel Angel Aguilera Rodríguez**\n",
        "#### <BR>\n",
        "### **Ciencia y analitica de datos**\n",
        "### **Dra. Maria de la Paz Rico**\n",
        "### 2022-11-18"
      ],
      "metadata": {
        "id": "FdXavNRP54Gj"
      }
    },
    {
      "cell_type": "code",
      "source": [
        "import pandas as pd\n",
        "import numpy as np\n",
        "import seaborn as sns\n",
        "import matplotlib.pyplot as plt\n",
        "%matplotlib inline"
      ],
      "metadata": {
        "id": "j5F4BSoS54kq"
      },
      "execution_count": 2,
      "outputs": []
    },
    {
      "cell_type": "code",
      "source": [
        "import warnings\n",
        "warnings.filterwarnings('ignore')"
      ],
      "metadata": {
        "id": "eCtHcFV98_1r"
      },
      "execution_count": 84,
      "outputs": []
    },
    {
      "cell_type": "code",
      "source": [
        "from sklearn.model_selection import train_test_split, RepeatedStratifiedKFold, cross_validate, GridSearchCV\n",
        "\n",
        "from sklearn.preprocessing import MinMaxScaler\n",
        "from sklearn.pipeline import Pipeline\n",
        "from sklearn.preprocessing import FunctionTransformer\n",
        "from sklearn.compose import ColumnTransformer\n",
        "\n",
        "from sklearn.linear_model import LogisticRegression\n",
        "from sklearn.tree import DecisionTreeClassifier\n",
        "from sklearn.ensemble import RandomForestClassifier\n",
        "\n",
        "from sklearn.metrics import classification_report, confusion_matrix, accuracy_score, precision_score, recall_score, f1_score"
      ],
      "metadata": {
        "id": "Tj63tPGpCvV6"
      },
      "execution_count": 88,
      "outputs": []
    },
    {
      "cell_type": "code",
      "source": [
        "pd.set_option('display.max_columns', None)"
      ],
      "metadata": {
        "id": "MRW7tARhnaP7"
      },
      "execution_count": 4,
      "outputs": []
    },
    {
      "cell_type": "code",
      "source": [
        "df = pd.read_csv('Datos_de_calidad_del_agua_de_sitios_de_monitoreo_de_aguas_subterraneas_2020.csv', encoding = 'latin-1')"
      ],
      "metadata": {
        "id": "DNZA54mg_MHy"
      },
      "execution_count": 5,
      "outputs": []
    },
    {
      "cell_type": "markdown",
      "source": [
        "### **Limpieza de los datos**"
      ],
      "metadata": {
        "id": "KAK_UhW7-_en"
      }
    },
    {
      "cell_type": "code",
      "source": [
        "df.isnull().sum()"
      ],
      "metadata": {
        "colab": {
          "base_uri": "https://localhost:8080/"
        },
        "id": "yIhJ00Fx-5bi",
        "outputId": "f22abe65-2556-4f92-8453-358ef7517841"
      },
      "execution_count": 6,
      "outputs": [
        {
          "output_type": "execute_result",
          "data": {
            "text/plain": [
              "CLAVE                      0\n",
              "SITIO                      0\n",
              "ORGANISMO_DE_CUENCA        0\n",
              "ESTADO                     0\n",
              "MUNICIPIO                  0\n",
              "ACUIFERO                   0\n",
              "SUBTIPO                    0\n",
              "LONGITUD                   0\n",
              "LATITUD                    0\n",
              "PERIODO                    0\n",
              "ALC_mg/L                   4\n",
              "CALIDAD_ALC                4\n",
              "CONDUCT_mS/cm              6\n",
              "CALIDAD_CONDUC             6\n",
              "SDT_mg/L                1068\n",
              "SDT_M_mg/L                 2\n",
              "CALIDAD_SDT_ra             2\n",
              "CALIDAD_SDT_salin          2\n",
              "FLUORUROS_mg/L             0\n",
              "CALIDAD_FLUO               0\n",
              "DUR_mg/L                   1\n",
              "CALIDAD_DUR                1\n",
              "COLI_FEC_NMP/100_mL        0\n",
              "CALIDAD_COLI_FEC           0\n",
              "N_NO3_mg/L                 1\n",
              "CALIDAD_N_NO3              1\n",
              "AS_TOT_mg/L                0\n",
              "CALIDAD_AS                 0\n",
              "CD_TOT_mg/L                0\n",
              "CALIDAD_CD                 0\n",
              "CR_TOT_mg/L                0\n",
              "CALIDAD_CR                 0\n",
              "HG_TOT_mg/L                0\n",
              "CALIDAD_HG                 0\n",
              "PB_TOT_mg/L                0\n",
              "CALIDAD_PB                 0\n",
              "MN_TOT_mg/L                0\n",
              "CALIDAD_MN                 0\n",
              "FE_TOT_mg/L                0\n",
              "CALIDAD_FE                 0\n",
              "SEMAFORO                   0\n",
              "CONTAMINANTES            434\n",
              "CUMPLE_CON_ALC             0\n",
              "CUMPLE_CON_COND            0\n",
              "CUMPLE_CON_SDT_ra          0\n",
              "CUMPLE_CON_SDT_salin       0\n",
              "CUMPLE_CON_FLUO            0\n",
              "CUMPLE_CON_DUR             0\n",
              "CUMPLE_CON_CF              0\n",
              "CUMPLE_CON_NO3             0\n",
              "CUMPLE_CON_AS              0\n",
              "CUMPLE_CON_CD              0\n",
              "CUMPLE_CON_CR              0\n",
              "CUMPLE_CON_HG              0\n",
              "CUMPLE_CON_PB              0\n",
              "CUMPLE_CON_MN              0\n",
              "CUMPLE_CON_FE              0\n",
              "dtype: int64"
            ]
          },
          "metadata": {},
          "execution_count": 6
        }
      ]
    },
    {
      "cell_type": "code",
      "source": [
        "#Dado que la columna 'SDT_mg/L' no tiene datos se decide por eliminarla.\n",
        "df.drop(columns = ['SDT_mg/L'], inplace = True)"
      ],
      "metadata": {
        "id": "z0_NaPWD8VZe"
      },
      "execution_count": 7,
      "outputs": []
    },
    {
      "cell_type": "code",
      "source": [
        "#Las filas de las columnas con a lo más 6 datos faltantes se eliminan.\n",
        "#Dado que se considera que la base de datos contiene el número suficiente de datos para estimar un modelo.\n",
        "columns = ['ALC_mg/L', 'CALIDAD_ALC', 'CONDUCT_mS/cm', 'CALIDAD_CONDUC', 'SDT_M_mg/L', 'CALIDAD_SDT_ra', 'CALIDAD_SDT_salin', 'DUR_mg/L', 'CALIDAD_DUR', 'N_NO3_mg/L', 'CALIDAD_N_NO3']\n",
        "df.dropna(subset = columns, inplace = True)"
      ],
      "metadata": {
        "id": "wXQsSlf-9bwp"
      },
      "execution_count": 8,
      "outputs": []
    },
    {
      "cell_type": "code",
      "source": [
        "#Volvemos a verificar los datos faltantes.\n",
        "df.isnull().sum()"
      ],
      "metadata": {
        "colab": {
          "base_uri": "https://localhost:8080/"
        },
        "id": "M1xFq-wZoWOw",
        "outputId": "d97d5234-3119-4b16-b3cb-cd65ec286809"
      },
      "execution_count": 9,
      "outputs": [
        {
          "output_type": "execute_result",
          "data": {
            "text/plain": [
              "CLAVE                     0\n",
              "SITIO                     0\n",
              "ORGANISMO_DE_CUENCA       0\n",
              "ESTADO                    0\n",
              "MUNICIPIO                 0\n",
              "ACUIFERO                  0\n",
              "SUBTIPO                   0\n",
              "LONGITUD                  0\n",
              "LATITUD                   0\n",
              "PERIODO                   0\n",
              "ALC_mg/L                  0\n",
              "CALIDAD_ALC               0\n",
              "CONDUCT_mS/cm             0\n",
              "CALIDAD_CONDUC            0\n",
              "SDT_M_mg/L                0\n",
              "CALIDAD_SDT_ra            0\n",
              "CALIDAD_SDT_salin         0\n",
              "FLUORUROS_mg/L            0\n",
              "CALIDAD_FLUO              0\n",
              "DUR_mg/L                  0\n",
              "CALIDAD_DUR               0\n",
              "COLI_FEC_NMP/100_mL       0\n",
              "CALIDAD_COLI_FEC          0\n",
              "N_NO3_mg/L                0\n",
              "CALIDAD_N_NO3             0\n",
              "AS_TOT_mg/L               0\n",
              "CALIDAD_AS                0\n",
              "CD_TOT_mg/L               0\n",
              "CALIDAD_CD                0\n",
              "CR_TOT_mg/L               0\n",
              "CALIDAD_CR                0\n",
              "HG_TOT_mg/L               0\n",
              "CALIDAD_HG                0\n",
              "PB_TOT_mg/L               0\n",
              "CALIDAD_PB                0\n",
              "MN_TOT_mg/L               0\n",
              "CALIDAD_MN                0\n",
              "FE_TOT_mg/L               0\n",
              "CALIDAD_FE                0\n",
              "SEMAFORO                  0\n",
              "CONTAMINANTES           427\n",
              "CUMPLE_CON_ALC            0\n",
              "CUMPLE_CON_COND           0\n",
              "CUMPLE_CON_SDT_ra         0\n",
              "CUMPLE_CON_SDT_salin      0\n",
              "CUMPLE_CON_FLUO           0\n",
              "CUMPLE_CON_DUR            0\n",
              "CUMPLE_CON_CF             0\n",
              "CUMPLE_CON_NO3            0\n",
              "CUMPLE_CON_AS             0\n",
              "CUMPLE_CON_CD             0\n",
              "CUMPLE_CON_CR             0\n",
              "CUMPLE_CON_HG             0\n",
              "CUMPLE_CON_PB             0\n",
              "CUMPLE_CON_MN             0\n",
              "CUMPLE_CON_FE             0\n",
              "dtype: int64"
            ]
          },
          "metadata": {},
          "execution_count": 9
        }
      ]
    },
    {
      "cell_type": "code",
      "source": [
        "#Ahora hay columnas que contienen el símbolo '<'.\n",
        "cols_to_replace = ['SDT_M_mg/L', 'FLUORUROS_mg/L', 'DUR_mg/L', 'COLI_FEC_NMP/100_mL', 'N_NO3_mg/L', 'AS_TOT_mg/L', 'CD_TOT_mg/L', 'CR_TOT_mg/L', 'HG_TOT_mg/L', 'PB_TOT_mg/L', 'MN_TOT_mg/L', 'FE_TOT_mg/L']"
      ],
      "metadata": {
        "id": "8v9e6YP4_PNw"
      },
      "execution_count": 10,
      "outputs": []
    },
    {
      "cell_type": "code",
      "source": [
        "#Por lo que serán columnas a las que se les haga un reemplazo de esos valores por valores numéricos.\n",
        "for col in cols_to_replace:\n",
        "  df[col] = df[col].astype(str)"
      ],
      "metadata": {
        "id": "wPA_RVpg_PQM"
      },
      "execution_count": 11,
      "outputs": []
    },
    {
      "cell_type": "code",
      "source": [
        "#Identificamos los valores con el símbolo '<'.\n",
        "dict_tmp = {}\n",
        "\n",
        "for col in cols_to_replace:\n",
        "  list_tmp = list(df[df[col].str.contains('<')][col].unique())\n",
        "  dict_tmp[col] = list_tmp"
      ],
      "metadata": {
        "id": "y6XOQCH5_PTI"
      },
      "execution_count": 12,
      "outputs": []
    },
    {
      "cell_type": "code",
      "source": [
        "dict_tmp"
      ],
      "metadata": {
        "colab": {
          "base_uri": "https://localhost:8080/"
        },
        "id": "VKrHwWVfBtLt",
        "outputId": "f34099e0-7eee-4907-ce05-51d2848b925a"
      },
      "execution_count": 13,
      "outputs": [
        {
          "output_type": "execute_result",
          "data": {
            "text/plain": [
              "{'SDT_M_mg/L': [],\n",
              " 'FLUORUROS_mg/L': ['<0.2'],\n",
              " 'DUR_mg/L': ['<20'],\n",
              " 'COLI_FEC_NMP/100_mL': ['<1.1'],\n",
              " 'N_NO3_mg/L': ['<0.02'],\n",
              " 'AS_TOT_mg/L': ['<0.01'],\n",
              " 'CD_TOT_mg/L': ['<0.003'],\n",
              " 'CR_TOT_mg/L': ['<0.005'],\n",
              " 'HG_TOT_mg/L': ['<0.0005'],\n",
              " 'PB_TOT_mg/L': ['<0.005'],\n",
              " 'MN_TOT_mg/L': ['<0.0015'],\n",
              " 'FE_TOT_mg/L': ['<0.025']}"
            ]
          },
          "metadata": {},
          "execution_count": 13
        }
      ]
    },
    {
      "cell_type": "code",
      "source": [
        "#Una vez identificados esos valores se procede a reemplazarlos por valores numéricos.\n",
        "df['FLUORUROS_mg/L'] = df['FLUORUROS_mg/L'].replace('<0.2', 0.19) \n",
        "df['DUR_mg/L'] = df['DUR_mg/L'].replace('<20', 19)\n",
        "df['COLI_FEC_NMP/100_mL'] = df['COLI_FEC_NMP/100_mL'].replace('<1.1', 1)\n",
        "df['N_NO3_mg/L'] = df['N_NO3_mg/L'].replace('<0.02', 0.019)\n",
        "df['AS_TOT_mg/L'] = df['AS_TOT_mg/L'].replace('<0.01', 0.009)\n",
        "df['CD_TOT_mg/L'] = df['CD_TOT_mg/L'].replace('<0.003', 0.002)\n",
        "df['CR_TOT_mg/L'] = df['CR_TOT_mg/L'].replace('<0.005', 0.004)\n",
        "df['HG_TOT_mg/L'] = df['HG_TOT_mg/L'].replace('<0.0005', 0.0004)\n",
        "df['PB_TOT_mg/L'] = df['PB_TOT_mg/L'].replace('<0.005', 0.004)\n",
        "df['MN_TOT_mg/L'] = df['MN_TOT_mg/L'].replace('<0.0015', 0.0014)\n",
        "df['FE_TOT_mg/L'] = df['FE_TOT_mg/L'].replace('<0.025', 0.024)"
      ],
      "metadata": {
        "id": "Cr9a0ETJ_PWC"
      },
      "execution_count": 14,
      "outputs": []
    },
    {
      "cell_type": "code",
      "source": [
        "#Aseguramos que las columnas a las que les aplicamos el reemplazo vuelvan hacer completamente numéricas.\n",
        "for col in cols_to_replace:\n",
        "  df[col] = df[col].fillna(0).astype(float)"
      ],
      "metadata": {
        "id": "uyaWXxiV_PYu"
      },
      "execution_count": 15,
      "outputs": []
    },
    {
      "cell_type": "markdown",
      "source": [
        "### **Variables dependientes X y dependiente Y**\n",
        "\n"
      ],
      "metadata": {
        "id": "9nh447ZFCNMN"
      }
    },
    {
      "cell_type": "code",
      "source": [
        "#Seleccionamos un grupo de variables para considerar en primera instancia y después aplicarles el 'feature importance'.\n",
        "columns = ['LONGITUD', 'LATITUD', 'ALC_mg/L', 'CONDUCT_mS/cm', 'SDT_M_mg/L', 'FLUORUROS_mg/L', 'DUR_mg/L', 'COLI_FEC_NMP/100_mL', 'N_NO3_mg/L', 'AS_TOT_mg/L', 'CD_TOT_mg/L', 'CR_TOT_mg/L', 'HG_TOT_mg/L',\n",
        "           'PB_TOT_mg/L', 'MN_TOT_mg/L', 'FE_TOT_mg/L']"
      ],
      "metadata": {
        "id": "dS3F4JKGpfZM"
      },
      "execution_count": 20,
      "outputs": []
    },
    {
      "cell_type": "code",
      "source": [
        "X = df[columns].copy()"
      ],
      "metadata": {
        "id": "WGNijIbkB4mp"
      },
      "execution_count": 21,
      "outputs": []
    },
    {
      "cell_type": "code",
      "source": [
        "Y = df['SEMAFORO'].copy()"
      ],
      "metadata": {
        "id": "HhplA0Z2_PbV"
      },
      "execution_count": 22,
      "outputs": []
    },
    {
      "cell_type": "code",
      "source": [
        "Y = Y.map({'Rojo': 1, 'Amarillo': 2, 'Verde': 3})"
      ],
      "metadata": {
        "id": "LP-fekfVXKKd"
      },
      "execution_count": 23,
      "outputs": []
    },
    {
      "cell_type": "code",
      "source": [
        "#Distribución de la variable objetivo.\n",
        "#Si bien la variable no está balanceada tampoco se considera un desbalance extremo que pueda afectar el desempeño óptimo de algún modelo.\n",
        "Y.value_counts()"
      ],
      "metadata": {
        "colab": {
          "base_uri": "https://localhost:8080/"
        },
        "id": "TxKF4Rl4ctS2",
        "outputId": "d992630d-c9de-4bdd-fd10-6b97c664b112"
      },
      "execution_count": 24,
      "outputs": [
        {
          "output_type": "execute_result",
          "data": {
            "text/plain": [
              "3    427\n",
              "1    382\n",
              "2    245\n",
              "Name: SEMAFORO, dtype: int64"
            ]
          },
          "metadata": {},
          "execution_count": 24
        }
      ]
    },
    {
      "cell_type": "markdown",
      "source": [
        "### **Feature Importance**"
      ],
      "metadata": {
        "id": "Rnr1w1f9YiCS"
      }
    },
    {
      "cell_type": "markdown",
      "source": [
        "### Decision Tree"
      ],
      "metadata": {
        "id": "12eNtvDTbAJE"
      }
    },
    {
      "cell_type": "code",
      "source": [
        "dt_clf = DecisionTreeClassifier(random_state = 42)"
      ],
      "metadata": {
        "id": "-KJizafx_Pk2"
      },
      "execution_count": 25,
      "outputs": []
    },
    {
      "cell_type": "code",
      "source": [
        "dt_clf.fit(X, Y)"
      ],
      "metadata": {
        "colab": {
          "base_uri": "https://localhost:8080/"
        },
        "id": "NV9KvxxIY_KV",
        "outputId": "01b1eee5-1e8f-4657-a49b-dc99512da2b8"
      },
      "execution_count": 26,
      "outputs": [
        {
          "output_type": "execute_result",
          "data": {
            "text/plain": [
              "DecisionTreeClassifier(random_state=42)"
            ]
          },
          "metadata": {},
          "execution_count": 26
        }
      ]
    },
    {
      "cell_type": "code",
      "source": [
        "dict_feat_imp = {}\n",
        "\n",
        "for name, score in zip(X.columns, dt_clf.feature_importances_):\n",
        "    dict_feat_imp[name] = score"
      ],
      "metadata": {
        "id": "ZmEafS5GZRnS"
      },
      "execution_count": 28,
      "outputs": []
    },
    {
      "cell_type": "code",
      "source": [
        "df_feat_imp = pd.DataFrame.from_dict(dict_feat_imp, orient = 'index')"
      ],
      "metadata": {
        "id": "lZGtDpH5FD9b"
      },
      "execution_count": 34,
      "outputs": []
    },
    {
      "cell_type": "code",
      "source": [
        "df_feat_imp.sort_values(by = [0], ascending = False).plot.bar()\n",
        "plt.show()"
      ],
      "metadata": {
        "id": "_GBfEHY8FIwj",
        "colab": {
          "base_uri": "https://localhost:8080/",
          "height": 372
        },
        "outputId": "9eace253-f355-47c2-ca83-ba523c8a5b39"
      },
      "execution_count": 39,
      "outputs": [
        {
          "output_type": "display_data",
          "data": {
            "text/plain": [
              "<Figure size 432x288 with 1 Axes>"
            ],
            "image/png": "[encoded data removed]"
          },
          "metadata": {
            "needs_background": "light"
          }
        }
      ]
    },
    {
      "cell_type": "code",
      "source": [
        "df_feat_imp.sort_values(by = [0], ascending = False, inplace = True)\n",
        "df_feat_imp['cum'] = df_feat_imp[0].cumsum()"
      ],
      "metadata": {
        "id": "MVyf0KQeguOB"
      },
      "execution_count": 47,
      "outputs": []
    },
    {
      "cell_type": "code",
      "source": [
        "df_feat_imp"
      ],
      "metadata": {
        "colab": {
          "base_uri": "https://localhost:8080/",
          "height": 551
        },
        "id": "g0N0ka9phQzq",
        "outputId": "3fa8bd78-6336-4221-ba2d-ce5770d4c6f8"
      },
      "execution_count": 48,
      "outputs": [
        {
          "output_type": "execute_result",
          "data": {
            "text/plain": [
              "                            0       cum\n",
              "FLUORUROS_mg/L       0.205219  0.205219\n",
              "DUR_mg/L             0.124111  0.329331\n",
              "AS_TOT_mg/L          0.105906  0.435236\n",
              "N_NO3_mg/L           0.101203  0.536440\n",
              "COLI_FEC_NMP/100_mL  0.085088  0.621527\n",
              "FE_TOT_mg/L          0.075116  0.696643\n",
              "MN_TOT_mg/L          0.071189  0.767832\n",
              "SDT_M_mg/L           0.061675  0.829507\n",
              "CONDUCT_mS/cm        0.058278  0.887786\n",
              "ALC_mg/L             0.030180  0.917966\n",
              "LATITUD              0.024209  0.942175\n",
              "LONGITUD             0.023818  0.965993\n",
              "CR_TOT_mg/L          0.018540  0.984533\n",
              "PB_TOT_mg/L          0.010024  0.994557\n",
              "HG_TOT_mg/L          0.004512  0.999069\n",
              "CD_TOT_mg/L          0.000931  1.000000"
            ],
            "text/html": [
              "\n",
              "  <div id=\"df-289b8524-8940-4090-a2f1-1049a49d75da\">\n",
              "    <div class=\"colab-df-container\">\n",
              "      <div>\n",
              "<style scoped>\n",
              "    .dataframe tbody tr th:only-of-type {\n",
              "        vertical-align: middle;\n",
              "    }\n",
              "\n",
              "    .dataframe tbody tr th {\n",
              "        vertical-align: top;\n",
              "    }\n",
              "\n",
              "    .dataframe thead th {\n",
              "        text-align: right;\n",
              "    }\n",
              "</style>\n",
              "<table border=\"1\" class=\"dataframe\">\n",
              "  <thead>\n",
              "    <tr style=\"text-align: right;\">\n",
              "      <th></th>\n",
              "      <th>0</th>\n",
              "      <th>cum</th>\n",
              "    </tr>\n",
              "  </thead>\n",
              "  <tbody>\n",
              "    <tr>\n",
              "      <th>FLUORUROS_mg/L</th>\n",
              "      <td>0.205219</td>\n",
              "      <td>0.205219</td>\n",
              "    </tr>\n",
              "    <tr>\n",
              "      <th>DUR_mg/L</th>\n",
              "      <td>0.124111</td>\n",
              "      <td>0.329331</td>\n",
              "    </tr>\n",
              "    <tr>\n",
              "      <th>AS_TOT_mg/L</th>\n",
              "      <td>0.105906</td>\n",
              "      <td>0.435236</td>\n",
              "    </tr>\n",
              "    <tr>\n",
              "      <th>N_NO3_mg/L</th>\n",
              "      <td>0.101203</td>\n",
              "      <td>0.536440</td>\n",
              "    </tr>\n",
              "    <tr>\n",
              "      <th>COLI_FEC_NMP/100_mL</th>\n",
              "      <td>0.085088</td>\n",
              "      <td>0.621527</td>\n",
              "    </tr>\n",
              "    <tr>\n",
              "      <th>FE_TOT_mg/L</th>\n",
              "      <td>0.075116</td>\n",
              "      <td>0.696643</td>\n",
              "    </tr>\n",
              "    <tr>\n",
              "      <th>MN_TOT_mg/L</th>\n",
              "      <td>0.071189</td>\n",
              "      <td>0.767832</td>\n",
              "    </tr>\n",
              "    <tr>\n",
              "      <th>SDT_M_mg/L</th>\n",
              "      <td>0.061675</td>\n",
              "      <td>0.829507</td>\n",
              "    </tr>\n",
              "    <tr>\n",
              "      <th>CONDUCT_mS/cm</th>\n",
              "      <td>0.058278</td>\n",
              "      <td>0.887786</td>\n",
              "    </tr>\n",
              "    <tr>\n",
              "      <th>ALC_mg/L</th>\n",
              "      <td>0.030180</td>\n",
              "      <td>0.917966</td>\n",
              "    </tr>\n",
              "    <tr>\n",
              "      <th>LATITUD</th>\n",
              "      <td>0.024209</td>\n",
              "      <td>0.942175</td>\n",
              "    </tr>\n",
              "    <tr>\n",
              "      <th>LONGITUD</th>\n",
              "      <td>0.023818</td>\n",
              "      <td>0.965993</td>\n",
              "    </tr>\n",
              "    <tr>\n",
              "      <th>CR_TOT_mg/L</th>\n",
              "      <td>0.018540</td>\n",
              "      <td>0.984533</td>\n",
              "    </tr>\n",
              "    <tr>\n",
              "      <th>PB_TOT_mg/L</th>\n",
              "      <td>0.010024</td>\n",
              "      <td>0.994557</td>\n",
              "    </tr>\n",
              "    <tr>\n",
              "      <th>HG_TOT_mg/L</th>\n",
              "      <td>0.004512</td>\n",
              "      <td>0.999069</td>\n",
              "    </tr>\n",
              "    <tr>\n",
              "      <th>CD_TOT_mg/L</th>\n",
              "      <td>0.000931</td>\n",
              "      <td>1.000000</td>\n",
              "    </tr>\n",
              "  </tbody>\n",
              "</table>\n",
              "</div>\n",
              "      <button class=\"colab-df-convert\" onclick=\"convertToInteractive('df-289b8524-8940-4090-a2f1-1049a49d75da')\"\n",
              "              title=\"Convert this dataframe to an interactive table.\"\n",
              "              style=\"display:none;\">\n",
              "        \n",
              "  <svg xmlns=\"http://www.w3.org/2000/svg\" height=\"24px\"viewBox=\"0 0 24 24\"\n",
              "       width=\"24px\">\n",
              "    <path d=\"M0 0h24v24H0V0z\" fill=\"none\"/>\n",
              "    <path d=\"M18.56 5.44l.94 2.06.94-2.06 2.06-.94-2.06-.94-.94-2.06-.94 2.06-2.06.94zm-11 1L8.5 8.5l.94-2.06 2.06-.94-2.06-.94L8.5 2.5l-.94 2.06-2.06.94zm10 10l.94 2.06.94-2.06 2.06-.94-2.06-.94-.94-2.06-.94 2.06-2.06.94z\"/><path d=\"M17.41 7.96l-1.37-1.37c-.4-.4-.92-.59-1.43-.59-.52 0-1.04.2-1.43.59L10.3 9.45l-7.72 7.72c-.78.78-.78 2.05 0 2.83L4 21.41c.39.39.9.59 1.41.59.51 0 1.02-.2 1.41-.59l7.78-7.78 2.81-2.81c.8-.78.8-2.07 0-2.86zM5.41 20L4 18.59l7.72-7.72 1.47 1.35L5.41 20z\"/>\n",
              "  </svg>\n",
              "      </button>\n",
              "      \n",
              "  <style>\n",
              "    .colab-df-container {\n",
              "      display:flex;\n",
              "      flex-wrap:wrap;\n",
              "      gap: 12px;\n",
              "    }\n",
              "\n",
              "    .colab-df-convert {\n",
              "      background-color: #E8F0FE;\n",
              "      border: none;\n",
              "      border-radius: 50%;\n",
              "      cursor: pointer;\n",
              "      display: none;\n",
              "      fill: #1967D2;\n",
              "      height: 32px;\n",
              "      padding: 0 0 0 0;\n",
              "      width: 32px;\n",
              "    }\n",
              "\n",
              "    .colab-df-convert:hover {\n",
              "      background-color: #E2EBFA;\n",
              "      box-shadow: 0px 1px 2px rgba(60, 64, 67, 0.3), 0px 1px 3px 1px rgba(60, 64, 67, 0.15);\n",
              "      fill: #174EA6;\n",
              "    }\n",
              "\n",
              "    [theme=dark] .colab-df-convert {\n",
              "      background-color: #3B4455;\n",
              "      fill: #D2E3FC;\n",
              "    }\n",
              "\n",
              "    [theme=dark] .colab-df-convert:hover {\n",
              "      background-color: #434B5C;\n",
              "      box-shadow: 0px 1px 3px 1px rgba(0, 0, 0, 0.15);\n",
              "      filter: drop-shadow(0px 1px 2px rgba(0, 0, 0, 0.3));\n",
              "      fill: #FFFFFF;\n",
              "    }\n",
              "  </style>\n",
              "\n",
              "      <script>\n",
              "        const buttonEl =\n",
              "          document.querySelector('#df-289b8524-8940-4090-a2f1-1049a49d75da button.colab-df-convert');\n",
              "        buttonEl.style.display =\n",
              "          google.colab.kernel.accessAllowed ? 'block' : 'none';\n",
              "\n",
              "        async function convertToInteractive(key) {\n",
              "          const element = document.querySelector('#df-289b8524-8940-4090-a2f1-1049a49d75da');\n",
              "          const dataTable =\n",
              "            await google.colab.kernel.invokeFunction('convertToInteractive',\n",
              "                                                     [key], {});\n",
              "          if (!dataTable) return;\n",
              "\n",
              "          const docLinkHtml = 'Like what you see? Visit the ' +\n",
              "            '<a target=\"_blank\" href=https://colab.research.google.com/notebooks/data_table.ipynb>data table notebook</a>'\n",
              "            + ' to learn more about interactive tables.';\n",
              "          element.innerHTML = '';\n",
              "          dataTable['output_type'] = 'display_data';\n",
              "          await google.colab.output.renderOutput(dataTable, element);\n",
              "          const docLink = document.createElement('div');\n",
              "          docLink.innerHTML = docLinkHtml;\n",
              "          element.appendChild(docLink);\n",
              "        }\n",
              "      </script>\n",
              "    </div>\n",
              "  </div>\n",
              "  "
            ]
          },
          "metadata": {},
          "execution_count": 48
        }
      ]
    },
    {
      "cell_type": "markdown",
      "source": [
        "### **Selección de las variables de mayor importancia**"
      ],
      "metadata": {
        "id": "qZGj8kzMbVWB"
      }
    },
    {
      "cell_type": "code",
      "source": [
        "#Dado el análisis anterior se tomarán las variables hasta donde se acumula un 80%\n",
        "cols_most_imp = ['FLUORUROS_mg/L', 'DUR_mg/L', 'AS_TOT_mg/L', 'N_NO3_mg/L', 'COLI_FEC_NMP/100_mL', 'FE_TOT_mg/L', 'MN_TOT_mg/L', 'SDT_M_mg/L']"
      ],
      "metadata": {
        "id": "m2vdz1Vva9K8"
      },
      "execution_count": 50,
      "outputs": []
    },
    {
      "cell_type": "markdown",
      "source": [
        "### **Clasificador**"
      ],
      "metadata": {
        "id": "7AfGtzzmiyO_"
      }
    },
    {
      "cell_type": "code",
      "source": [
        "X = df[cols_most_imp].copy()"
      ],
      "metadata": {
        "id": "nyu8Br0feHr4"
      },
      "execution_count": 51,
      "outputs": []
    },
    {
      "cell_type": "code",
      "source": [
        "Xtv, Xtest, Ytv, Ytest = train_test_split(X, Y, test_size = 0.2, random_state = 42)"
      ],
      "metadata": {
        "id": "KEtQRRHheHvB"
      },
      "execution_count": 53,
      "outputs": []
    },
    {
      "cell_type": "code",
      "source": [
        "pipe = Pipeline(steps = [('scaler', MinMaxScaler(feature_range=(1,2))),\n",
        "                          ('lg', FunctionTransformer(np.log))])\n",
        "\n",
        "column_transformer = ColumnTransformer(transformers = [('pipe', pipe, cols_most_imp)],\n",
        "                                       remainder='passthrough')"
      ],
      "metadata": {
        "id": "lxZTaGRknxF2"
      },
      "execution_count": 61,
      "outputs": []
    },
    {
      "cell_type": "code",
      "source": [
        "#Se considerarán dos modelos para comparar, Decision Tree y Random Forest.\n",
        "def get_models():\n",
        "\n",
        "  modelos, nombres = list(), list()\n",
        "\n",
        "  # DT \n",
        "  modelos.append(DecisionTreeClassifier())\n",
        "  nombres.append('DT')\n",
        "\n",
        "  # RF \n",
        "  modelos.append(RandomForestClassifier())\n",
        "  nombres.append('RF')\n",
        "  \n",
        "  \n",
        "  return modelos, nombres"
      ],
      "metadata": {
        "id": "Z9vfZFiQeHyN"
      },
      "execution_count": 81,
      "outputs": []
    },
    {
      "cell_type": "code",
      "source": [
        "models, names = get_models()"
      ],
      "metadata": {
        "id": "fIXc8cWkeH4d"
      },
      "execution_count": 68,
      "outputs": []
    },
    {
      "cell_type": "code",
      "source": [
        "results = list()\n",
        "\n",
        "for i in range(len(models)):\n",
        "  pipeline = Pipeline(steps = [('pipe', pipe), \n",
        "                               ('m', models[i])])\n",
        "  \n",
        "  cv = RepeatedStratifiedKFold(n_splits = 5, n_repeats = 3, random_state = 42) \n",
        "\n",
        "  scores = cross_validate(pipeline, Xtv, Ytv, scoring = 'accuracy', cv = cv, return_train_score = True)\n",
        "\n",
        "  results.append(scores)\n",
        "\n",
        "  print(names[i] + ':', np.mean(scores['test_score']), '(', np.std(scores['test_score']),')')"
      ],
      "metadata": {
        "colab": {
          "base_uri": "https://localhost:8080/"
        },
        "id": "_LAYnnIKeH7k",
        "outputId": "27dae43c-75ae-4e59-cd77-1c7730041408"
      },
      "execution_count": 80,
      "outputs": [
        {
          "output_type": "stream",
          "name": "stdout",
          "text": [
            "DT: 0.9122123602892835 ( 0.019139186217197655 )\n",
            "RF: 0.9466140696909927 ( 0.021313138508280753 )\n"
          ]
        }
      ]
    },
    {
      "cell_type": "markdown",
      "source": [
        "Dado los resultados anteriores a partir de la métrica accuracy se decide utilizar el modelo Random Forest como mejor clasificador. Por último, buscamos los mejores hiperparámetros para el modelo."
      ],
      "metadata": {
        "id": "XvfTSCDr3kIO"
      }
    },
    {
      "cell_type": "code",
      "source": [
        "cv = RepeatedStratifiedKFold(n_splits = 5, n_repeats = 3,random_state = 42)\n",
        "\n",
        "pipeline = Pipeline(steps=[('ct',column_transformer),('m',models[1])])\n",
        "\n",
        "param_grid = {\n",
        "    'm__n_estimators': [10, 50, 100, 200],\n",
        "    'm__criterion': ['gini', 'entropy', 'log_loss'],\n",
        "    'm__max_depth': [None, 2, 4, 6],\n",
        "    'm__min_samples_split': [2, 3, 4, 5, 6]\n",
        "}\n",
        "\n",
        "grid = GridSearchCV(estimator=pipeline,\n",
        "                    param_grid=param_grid,\n",
        "                    cv = cv,\n",
        "                    scoring = 'accuracy')\n",
        "\n",
        "grid.fit(Xtv, Ytv)\n",
        "\n",
        "print('Mejor valor de accuracy obtenido:', grid.best_score_)\n",
        "print('Mejor combinaciónhiperparámetros:', grid.best_params_)\n",
        "print('Métrica utilizada:', grid.scoring)"
      ],
      "metadata": {
        "colab": {
          "base_uri": "https://localhost:8080/"
        },
        "id": "OmMxLzZiumrD",
        "outputId": "0868695f-acdc-49fb-d7de-d0bc8c986414"
      },
      "execution_count": 85,
      "outputs": [
        {
          "output_type": "stream",
          "name": "stdout",
          "text": [
            "Mejor valor de accuracy obtenido: 0.9537475345167653\n",
            "Mejor combinaciónhiperparámetros: {'m__criterion': 'entropy', 'm__max_depth': None, 'm__min_samples_split': 3, 'm__n_estimators': 200}\n",
            "Métrica utilizada: accuracy\n"
          ]
        }
      ]
    },
    {
      "cell_type": "markdown",
      "source": [
        "### **Reporte de Clasificación**"
      ],
      "metadata": {
        "id": "JvSyYzWL-mwr"
      }
    },
    {
      "cell_type": "code",
      "source": [
        "pipeline = Pipeline(steps=[('ct',column_transformer), ('m', RandomForestClassifier(n_estimators = 200, criterion = 'entropy', max_depth = None, min_samples_split = 3, random_state = 42))])\n",
        "\n",
        "pipeline.fit(Xtv, Ytv)"
      ],
      "metadata": {
        "colab": {
          "base_uri": "https://localhost:8080/"
        },
        "id": "EObaObytzYZ6",
        "outputId": "3208a917-469d-4bcf-f557-948d3129538e"
      },
      "execution_count": 86,
      "outputs": [
        {
          "output_type": "execute_result",
          "data": {
            "text/plain": [
              "Pipeline(steps=[('ct',\n",
              "                 ColumnTransformer(remainder='passthrough',\n",
              "                                   transformers=[('pipe',\n",
              "                                                  Pipeline(steps=[('scaler',\n",
              "                                                                   MinMaxScaler(feature_range=(1,\n",
              "                                                                                               2))),\n",
              "                                                                  ('lg',\n",
              "                                                                   FunctionTransformer(func=<ufunc 'log'>))]),\n",
              "                                                  ['FLUORUROS_mg/L', 'DUR_mg/L',\n",
              "                                                   'AS_TOT_mg/L', 'N_NO3_mg/L',\n",
              "                                                   'COLI_FEC_NMP/100_mL',\n",
              "                                                   'FE_TOT_mg/L', 'MN_TOT_mg/L',\n",
              "                                                   'SDT_M_mg/L'])])),\n",
              "                ('m',\n",
              "                 RandomForestClassifier(criterion='entropy',\n",
              "                                        min_samples_split=3, n_estimators=200,\n",
              "                                        random_state=42))])"
            ]
          },
          "metadata": {},
          "execution_count": 86
        }
      ]
    },
    {
      "cell_type": "code",
      "source": [
        "yhat = pipeline.predict(Xtest)"
      ],
      "metadata": {
        "id": "YpnLYLkI_VLc"
      },
      "execution_count": 87,
      "outputs": []
    },
    {
      "cell_type": "code",
      "source": [
        "print(classification_report(Ytest, yhat, labels = [1, 2, 3]))"
      ],
      "metadata": {
        "colab": {
          "base_uri": "https://localhost:8080/"
        },
        "id": "vRzE1Xru_ctU",
        "outputId": "704cb3a4-27f4-4211-e0cb-1479a7a81bbf"
      },
      "execution_count": 89,
      "outputs": [
        {
          "output_type": "stream",
          "name": "stdout",
          "text": [
            "              precision    recall  f1-score   support\n",
            "\n",
            "           1       0.97      0.97      0.97        69\n",
            "           2       0.98      0.78      0.87        55\n",
            "           3       0.87      0.98      0.92        87\n",
            "\n",
            "    accuracy                           0.92       211\n",
            "   macro avg       0.94      0.91      0.92       211\n",
            "weighted avg       0.93      0.92      0.92       211\n",
            "\n"
          ]
        }
      ]
    },
    {
      "cell_type": "markdown",
      "source": [
        "### **Matriz de confusión**"
      ],
      "metadata": {
        "id": "dahSeNjwAQV-"
      }
    },
    {
      "cell_type": "code",
      "source": [
        "df_conf_mat = pd.DataFrame(confusion_matrix(Ytest, yhat))"
      ],
      "metadata": {
        "id": "5ok1EW7EADnZ"
      },
      "execution_count": 101,
      "outputs": []
    },
    {
      "cell_type": "code",
      "source": [
        "plt.figure(figsize = (5, 5))\n",
        "sns.set(font_scale = .5)\n",
        "\n",
        "sns.heatmap(df_conf_mat,\n",
        "            cmap = 'coolwarm',\n",
        "            annot = True,\n",
        "            vmax = 200,\n",
        "            annot_kws={\"fontsize\": 12})\n",
        "\n",
        "plt.xlabel('Predicted', fontsize = 22)\n",
        "plt.ylabel('Actual', fontsize = 22)"
      ],
      "metadata": {
        "colab": {
          "base_uri": "https://localhost:8080/",
          "height": 360
        },
        "id": "tuE_X9pFCExL",
        "outputId": "2e9b27cd-2a67-4d3d-e15e-1efca0c9be34"
      },
      "execution_count": 102,
      "outputs": [
        {
          "output_type": "execute_result",
          "data": {
            "text/plain": [
              "Text(26.5, 0.5, 'Actual')"
            ]
          },
          "metadata": {},
          "execution_count": 102
        },
        {
          "output_type": "display_data",
          "data": {
            "text/plain": [
              "<Figure size 360x360 with 2 Axes>"
            ],
            "image/png": "[encoded data removed]"
          },
          "metadata": {}
        }
      ]
    },
    {
      "cell_type": "markdown",
      "source": [
        "### **Conclusiones**"
      ],
      "metadata": {
        "id": "Pke0yP20D1G2"
      }
    },
    {
      "cell_type": "markdown",
      "source": [
        "Por medio del análisis realizado encontramos una primer aproximación al problema planteado. Primero realizamos un análisis general de los datos de Aguas Subterraneas e identificamos algunos problemas en los datos como texto en columnas numéricas. Segundo visualizamos de manera general la importancia de las variables dadas, en este caso decidimos considerar sólo las variables numéricas relacionadas a la calidad del agua. Tercero, consideramos dos modelos para Decision Tree y Random Forest, a partir de estos y dado los resultados elegimos Decision Tree. En general consideramos que obtuvimos unos buenos resultados, con métricas cercanas a 0.8 o superiores."
      ],
      "metadata": {
        "id": "xwZbAyF-EEpW"
      }
    }
  ]
}